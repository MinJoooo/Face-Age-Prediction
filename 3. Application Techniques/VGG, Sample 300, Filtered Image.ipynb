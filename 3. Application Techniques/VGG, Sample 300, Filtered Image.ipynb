{
  "nbformat": 4,
  "nbformat_minor": 0,
  "metadata": {
    "colab": {
      "name": "Data_Augmentation_Comparison.ipynb",
      "provenance": [],
      "collapsed_sections": []
    },
    "kernelspec": {
      "name": "python3",
      "display_name": "Python 3"
    },
    "language_info": {
      "name": "python"
    },
    "accelerator": "GPU"
  },
  "cells": [
    {
      "cell_type": "markdown",
      "metadata": {
        "id": "AshSPQdRZJ2T"
      },
      "source": [
        "# Filtered Data"
      ]
    },
    {
      "cell_type": "code",
      "metadata": {
        "id": "K-JspLpTzGy4"
      },
      "source": [
        "import tensorflow as tf\n",
        "from tensorflow.keras import models\n",
        "from tensorflow.keras import layers\n",
        "from tensorflow.keras import optimizers, losses, metrics\n",
        "\n",
        "from tensorflow.keras.utils import to_categorical\n",
        "from tensorflow.keras.preprocessing.image import ImageDataGenerator\n",
        "\n",
        "from tensorflow.keras.applications.vgg16 import VGG16\n",
        "from tensorflow.keras.applications.vgg19 import VGG19\n",
        "from tensorflow.keras.optimizers import RMSprop\n",
        "\n",
        "import numpy as np\n",
        "import matplotlib.pyplot as plt\n",
        "import PIL\n",
        "import os"
      ],
      "execution_count": 1,
      "outputs": []
    },
    {
      "cell_type": "code",
      "metadata": {
        "colab": {
          "base_uri": "https://localhost:8080/"
        },
        "id": "JWXCvz95Mjjg",
        "outputId": "d2dce216-b31c-4485-9b1a-885e3326e9ba"
      },
      "source": [
        "from google.colab import drive\n",
        "drive.mount('/content/drive')"
      ],
      "execution_count": 2,
      "outputs": [
        {
          "output_type": "stream",
          "name": "stdout",
          "text": [
            "Mounted at /content/drive\n"
          ]
        }
      ]
    },
    {
      "cell_type": "markdown",
      "metadata": {
        "id": "RjKi5DZAR_Vh"
      },
      "source": [
        "# Model 1 (Original)"
      ]
    },
    {
      "cell_type": "code",
      "metadata": {
        "colab": {
          "base_uri": "https://localhost:8080/"
        },
        "id": "Dbs2Ee3H0Tv3",
        "outputId": "c73ca857-46db-447c-a1d3-28b018a93132"
      },
      "source": [
        "# 데이터셋 디렉터리 경로\n",
        "dataset_dir = '/content/drive/MyDrive/dataset_real'\n",
        "# train_dir = os.path.join(dataset_dir, 'train')\n",
        "# val_dir = os.path.join(dataset_dir, 'val')\n",
        "\n",
        "# 사진 크기\n",
        "image_height = 224\n",
        "image_width = 224\n",
        "batch_size = 32\n",
        "\n",
        "\n",
        "\n",
        "train_ds = tf.keras.utils.image_dataset_from_directory(\n",
        "  dataset_dir,\n",
        "  validation_split=0.2,\n",
        "  subset=\"training\",\n",
        "  seed=123,\n",
        "  image_size=(image_height, image_width),\n",
        "  batch_size=batch_size)\n",
        "\n",
        "val_ds = tf.keras.utils.image_dataset_from_directory(\n",
        "  dataset_dir,\n",
        "  validation_split=0.2,\n",
        "  subset=\"validation\",\n",
        "  seed=123,\n",
        "  image_size=(image_height, image_width),\n",
        "  batch_size=batch_size)\n",
        "\n",
        "\n",
        "\n",
        "# 훈련셋에서 배치를 생성\n",
        "for image_batch, labels_batch in train_ds:\n",
        "    print(image_batch.shape)\n",
        "    print(labels_batch.shape)\n",
        "    break"
      ],
      "execution_count": 3,
      "outputs": [
        {
          "output_type": "stream",
          "name": "stdout",
          "text": [
            "Found 1006 files belonging to 4 classes.\n",
            "Using 805 files for training.\n",
            "Found 1006 files belonging to 4 classes.\n",
            "Using 201 files for validation.\n",
            "(32, 224, 224, 3)\n",
            "(32,)\n"
          ]
        }
      ]
    },
    {
      "cell_type": "code",
      "metadata": {
        "colab": {
          "base_uri": "https://localhost:8080/"
        },
        "id": "j2MxdH5AR78B",
        "outputId": "53a81cde-a672-41f1-bda7-b5facfc886eb"
      },
      "source": [
        "preprocess_input = tf.keras.applications.vgg16.preprocess_input\n",
        "\n",
        "IMG_SHAPE = (image_height, image_width) + (3,)\n",
        "base_model = VGG16(input_shape=IMG_SHAPE,\n",
        "                   include_top=False,\n",
        "                   weights='imagenet')\n",
        "\n",
        "\n",
        "\n",
        "normalization_layer = layers.Rescaling(1./255)\n",
        "normalized_ds = train_ds.map(lambda x, y: (normalization_layer(x), y))\n",
        "image_batch, labels_batch = next(iter(normalized_ds))\n",
        "feature_batch = base_model(image_batch)\n",
        "\n",
        "base_model.trainable = False\n",
        "base_model.summary()"
      ],
      "execution_count": 4,
      "outputs": [
        {
          "output_type": "stream",
          "name": "stdout",
          "text": [
            "Downloading data from https://storage.googleapis.com/tensorflow/keras-applications/vgg16/vgg16_weights_tf_dim_ordering_tf_kernels_notop.h5\n",
            "58892288/58889256 [==============================] - 1s 0us/step\n",
            "58900480/58889256 [==============================] - 1s 0us/step\n",
            "Model: \"vgg16\"\n",
            "_________________________________________________________________\n",
            " Layer (type)                Output Shape              Param #   \n",
            "=================================================================\n",
            " input_1 (InputLayer)        [(None, 224, 224, 3)]     0         \n",
            "                                                                 \n",
            " block1_conv1 (Conv2D)       (None, 224, 224, 64)      1792      \n",
            "                                                                 \n",
            " block1_conv2 (Conv2D)       (None, 224, 224, 64)      36928     \n",
            "                                                                 \n",
            " block1_pool (MaxPooling2D)  (None, 112, 112, 64)      0         \n",
            "                                                                 \n",
            " block2_conv1 (Conv2D)       (None, 112, 112, 128)     73856     \n",
            "                                                                 \n",
            " block2_conv2 (Conv2D)       (None, 112, 112, 128)     147584    \n",
            "                                                                 \n",
            " block2_pool (MaxPooling2D)  (None, 56, 56, 128)       0         \n",
            "                                                                 \n",
            " block3_conv1 (Conv2D)       (None, 56, 56, 256)       295168    \n",
            "                                                                 \n",
            " block3_conv2 (Conv2D)       (None, 56, 56, 256)       590080    \n",
            "                                                                 \n",
            " block3_conv3 (Conv2D)       (None, 56, 56, 256)       590080    \n",
            "                                                                 \n",
            " block3_pool (MaxPooling2D)  (None, 28, 28, 256)       0         \n",
            "                                                                 \n",
            " block4_conv1 (Conv2D)       (None, 28, 28, 512)       1180160   \n",
            "                                                                 \n",
            " block4_conv2 (Conv2D)       (None, 28, 28, 512)       2359808   \n",
            "                                                                 \n",
            " block4_conv3 (Conv2D)       (None, 28, 28, 512)       2359808   \n",
            "                                                                 \n",
            " block4_pool (MaxPooling2D)  (None, 14, 14, 512)       0         \n",
            "                                                                 \n",
            " block5_conv1 (Conv2D)       (None, 14, 14, 512)       2359808   \n",
            "                                                                 \n",
            " block5_conv2 (Conv2D)       (None, 14, 14, 512)       2359808   \n",
            "                                                                 \n",
            " block5_conv3 (Conv2D)       (None, 14, 14, 512)       2359808   \n",
            "                                                                 \n",
            " block5_pool (MaxPooling2D)  (None, 7, 7, 512)         0         \n",
            "                                                                 \n",
            "=================================================================\n",
            "Total params: 14,714,688\n",
            "Trainable params: 0\n",
            "Non-trainable params: 14,714,688\n",
            "_________________________________________________________________\n"
          ]
        }
      ]
    },
    {
      "cell_type": "code",
      "metadata": {
        "id": "-4c99tXTR78K"
      },
      "source": [
        "global_average_layer = tf.keras.layers.GlobalAveragePooling2D()\n",
        "feature_batch_average = global_average_layer(feature_batch)\n",
        "\n",
        "prediction_layer = tf.keras.layers.Dense(1)\n",
        "prediction_batch = prediction_layer(feature_batch_average)"
      ],
      "execution_count": 5,
      "outputs": []
    },
    {
      "cell_type": "code",
      "metadata": {
        "id": "1np82dCxR78L"
      },
      "source": [
        "inputs = tf.keras.Input(shape=IMG_SHAPE)\n",
        "# x = data_augmentation(inputs)\n",
        "x = preprocess_input(inputs)\n",
        "x = base_model(x, training=False)\n",
        "x = global_average_layer(x)\n",
        "# x = layers.Dropout(0.2)(x)\n",
        "outputs = layers.Dense(1, activation='linear')(x)\n",
        "\n",
        "model = tf.keras.Model(inputs, outputs)"
      ],
      "execution_count": 6,
      "outputs": []
    },
    {
      "cell_type": "code",
      "metadata": {
        "colab": {
          "base_uri": "https://localhost:8080/"
        },
        "id": "tk_jIhgrR78L",
        "outputId": "966d6fdd-17ca-4f11-e2ae-a79ca71b106f"
      },
      "source": [
        "base_learning_rate = 0.0001\n",
        "model.compile(optimizer = tf.keras.optimizers.RMSprop(lr=base_learning_rate),\n",
        "              loss = 'mse',\n",
        "              metrics = ['mae'])\n",
        "\n",
        "model.summary()"
      ],
      "execution_count": 7,
      "outputs": [
        {
          "output_type": "stream",
          "name": "stdout",
          "text": [
            "Model: \"model\"\n",
            "_________________________________________________________________\n",
            " Layer (type)                Output Shape              Param #   \n",
            "=================================================================\n",
            " input_2 (InputLayer)        [(None, 224, 224, 3)]     0         \n",
            "                                                                 \n",
            " tf.__operators__.getitem (S  (None, 224, 224, 3)      0         \n",
            " licingOpLambda)                                                 \n",
            "                                                                 \n",
            " tf.nn.bias_add (TFOpLambda)  (None, 224, 224, 3)      0         \n",
            "                                                                 \n",
            " vgg16 (Functional)          (None, 7, 7, 512)         14714688  \n",
            "                                                                 \n",
            " global_average_pooling2d (G  (None, 512)              0         \n",
            " lobalAveragePooling2D)                                          \n",
            "                                                                 \n",
            " dense_1 (Dense)             (None, 1)                 513       \n",
            "                                                                 \n",
            "=================================================================\n",
            "Total params: 14,715,201\n",
            "Trainable params: 513\n",
            "Non-trainable params: 14,714,688\n",
            "_________________________________________________________________\n"
          ]
        },
        {
          "output_type": "stream",
          "name": "stderr",
          "text": [
            "/usr/local/lib/python3.7/dist-packages/keras/optimizer_v2/rmsprop.py:130: UserWarning: The `lr` argument is deprecated, use `learning_rate` instead.\n",
            "  super(RMSprop, self).__init__(name, **kwargs)\n"
          ]
        }
      ]
    },
    {
      "cell_type": "code",
      "metadata": {
        "colab": {
          "base_uri": "https://localhost:8080/"
        },
        "id": "HS66pj0dR78M",
        "outputId": "8559f7cb-e381-42fd-f01e-0ea4ca5aa685"
      },
      "source": [
        "initial_epochs = 10\n",
        "\n",
        "history = model.fit_generator(train_ds,\n",
        "                              epochs=initial_epochs,\n",
        "                              validation_data=val_ds)"
      ],
      "execution_count": 8,
      "outputs": [
        {
          "output_type": "stream",
          "name": "stderr",
          "text": [
            "/usr/local/lib/python3.7/dist-packages/ipykernel_launcher.py:5: UserWarning: `Model.fit_generator` is deprecated and will be removed in a future version. Please use `Model.fit`, which supports generators.\n",
            "  \"\"\"\n"
          ]
        },
        {
          "output_type": "stream",
          "name": "stdout",
          "text": [
            "Epoch 1/10\n",
            "26/26 [==============================] - 132s 5s/step - loss: 29.3424 - mae: 4.6580 - val_loss: 22.3973 - val_mae: 3.8884\n",
            "Epoch 2/10\n",
            "26/26 [==============================] - 9s 328ms/step - loss: 19.9976 - mae: 3.7229 - val_loss: 16.5574 - val_mae: 3.3031\n",
            "Epoch 3/10\n",
            "26/26 [==============================] - 9s 329ms/step - loss: 15.0749 - mae: 3.1919 - val_loss: 13.6439 - val_mae: 3.0044\n",
            "Epoch 4/10\n",
            "26/26 [==============================] - 9s 330ms/step - loss: 12.7043 - mae: 2.8937 - val_loss: 12.1790 - val_mae: 2.8391\n",
            "Epoch 5/10\n",
            "26/26 [==============================] - 9s 326ms/step - loss: 11.4183 - mae: 2.7140 - val_loss: 11.2529 - val_mae: 2.7248\n",
            "Epoch 6/10\n",
            "26/26 [==============================] - 9s 329ms/step - loss: 10.4604 - mae: 2.5812 - val_loss: 10.4693 - val_mae: 2.6311\n",
            "Epoch 7/10\n",
            "26/26 [==============================] - 9s 323ms/step - loss: 9.6248 - mae: 2.4663 - val_loss: 9.7660 - val_mae: 2.5479\n",
            "Epoch 8/10\n",
            "26/26 [==============================] - 9s 324ms/step - loss: 8.8585 - mae: 2.3618 - val_loss: 9.1320 - val_mae: 2.4651\n",
            "Epoch 9/10\n",
            "26/26 [==============================] - 9s 327ms/step - loss: 8.1914 - mae: 2.2752 - val_loss: 8.5555 - val_mae: 2.3899\n",
            "Epoch 10/10\n",
            "26/26 [==============================] - 9s 326ms/step - loss: 7.5769 - mae: 2.1854 - val_loss: 8.0060 - val_mae: 2.3173\n"
          ]
        }
      ]
    },
    {
      "cell_type": "code",
      "metadata": {
        "colab": {
          "base_uri": "https://localhost:8080/",
          "height": 513
        },
        "id": "rNYfGW35R78M",
        "outputId": "24d574bc-c62f-496a-f85f-93247b374e92"
      },
      "source": [
        "mae = history.history['mae']\n",
        "val_mae = history.history['val_mae']\n",
        "\n",
        "loss = history.history['loss']\n",
        "val_loss = history.history['val_loss']\n",
        "\n",
        "plt.figure(figsize=(8, 8))\n",
        "plt.subplot(2, 1, 1)\n",
        "plt.plot(mae, label='Training MAE')\n",
        "plt.plot(val_mae, label='Validation MAE')\n",
        "plt.legend(loc='lower right')\n",
        "plt.xlabel('epoch')\n",
        "plt.ylabel('MAE')\n",
        "plt.title('Training and Validation MAE')\n",
        "\n",
        "plt.subplot(2, 1, 2)\n",
        "plt.plot(loss, label='Training Loss')\n",
        "plt.plot(val_loss, label='Validation Loss')\n",
        "plt.legend(loc='upper right')\n",
        "plt.xlabel('epoch')\n",
        "plt.ylabel('Cross Entropy')\n",
        "plt.title('Training and Validation Loss')\n",
        "plt.show()"
      ],
      "execution_count": 9,
      "outputs": [
        {
          "output_type": "display_data",
          "data": {
            "image/png": "[encoded data removed]",
            "text/plain": [
              "<Figure size 576x576 with 2 Axes>"
            ]
          },
          "metadata": {
            "needs_background": "light"
          }
        }
      ]
    },
    {
      "cell_type": "markdown",
      "metadata": {
        "id": "x2yt4ON-TtlU"
      },
      "source": [
        "# Model 2 (Filtered Data 1)"
      ]
    },
    {
      "cell_type": "code",
      "metadata": {
        "colab": {
          "base_uri": "https://localhost:8080/"
        },
        "id": "LvqskR2Pc1m0",
        "outputId": "abeeb511-afa3-47a8-fc51-f6e54908ede6"
      },
      "source": [
        "# 데이터셋 디렉터리 경로\n",
        "dataset_dir = '/content/drive/MyDrive/dataset_real_filtered'\n",
        "# train_dir = os.path.join(dataset_dir, 'train')\n",
        "# val_dir = os.path.join(dataset_dir, 'val')\n",
        "\n",
        "# 사진 크기\n",
        "image_height = 224\n",
        "image_width = 224\n",
        "batch_size = 32\n",
        "\n",
        "\n",
        "\n",
        "train_ds = tf.keras.utils.image_dataset_from_directory(\n",
        "  dataset_dir,\n",
        "  validation_split=0.2,\n",
        "  subset=\"training\",\n",
        "  seed=123,\n",
        "  image_size=(image_height, image_width),\n",
        "  batch_size=batch_size)\n",
        "\n",
        "val_ds = tf.keras.utils.image_dataset_from_directory(\n",
        "  dataset_dir,\n",
        "  validation_split=0.2,\n",
        "  subset=\"validation\",\n",
        "  seed=123,\n",
        "  image_size=(image_height, image_width),\n",
        "  batch_size=batch_size)\n",
        "\n",
        "\n",
        "\n",
        "# 훈련셋에서 배치를 생성\n",
        "for image_batch, labels_batch in train_ds:\n",
        "    print(image_batch.shape)\n",
        "    print(labels_batch.shape)\n",
        "    break"
      ],
      "execution_count": 10,
      "outputs": [
        {
          "output_type": "stream",
          "name": "stdout",
          "text": [
            "Found 1006 files belonging to 4 classes.\n",
            "Using 805 files for training.\n",
            "Found 1006 files belonging to 4 classes.\n",
            "Using 201 files for validation.\n",
            "(32, 224, 224, 3)\n",
            "(32,)\n"
          ]
        }
      ]
    },
    {
      "cell_type": "code",
      "metadata": {
        "colab": {
          "base_uri": "https://localhost:8080/"
        },
        "id": "Lp90h1x8QnwF",
        "outputId": "28936c37-90fe-41dd-b850-32dee6879b19"
      },
      "source": [
        "preprocess_input = tf.keras.applications.vgg16.preprocess_input\n",
        "\n",
        "IMG_SHAPE = (image_height, image_width) + (3,)\n",
        "base_model = VGG16(input_shape=IMG_SHAPE,\n",
        "                   include_top=False,\n",
        "                   weights='imagenet')\n",
        "\n",
        "\n",
        "\n",
        "normalization_layer = layers.Rescaling(1./255)\n",
        "normalized_ds = train_ds.map(lambda x, y: (normalization_layer(x), y))\n",
        "image_batch, labels_batch = next(iter(normalized_ds))\n",
        "feature_batch = base_model(image_batch)\n",
        "\n",
        "base_model.trainable = False\n",
        "base_model.summary()"
      ],
      "execution_count": 11,
      "outputs": [
        {
          "output_type": "stream",
          "name": "stdout",
          "text": [
            "Model: \"vgg16\"\n",
            "_________________________________________________________________\n",
            " Layer (type)                Output Shape              Param #   \n",
            "=================================================================\n",
            " input_3 (InputLayer)        [(None, 224, 224, 3)]     0         \n",
            "                                                                 \n",
            " block1_conv1 (Conv2D)       (None, 224, 224, 64)      1792      \n",
            "                                                                 \n",
            " block1_conv2 (Conv2D)       (None, 224, 224, 64)      36928     \n",
            "                                                                 \n",
            " block1_pool (MaxPooling2D)  (None, 112, 112, 64)      0         \n",
            "                                                                 \n",
            " block2_conv1 (Conv2D)       (None, 112, 112, 128)     73856     \n",
            "                                                                 \n",
            " block2_conv2 (Conv2D)       (None, 112, 112, 128)     147584    \n",
            "                                                                 \n",
            " block2_pool (MaxPooling2D)  (None, 56, 56, 128)       0         \n",
            "                                                                 \n",
            " block3_conv1 (Conv2D)       (None, 56, 56, 256)       295168    \n",
            "                                                                 \n",
            " block3_conv2 (Conv2D)       (None, 56, 56, 256)       590080    \n",
            "                                                                 \n",
            " block3_conv3 (Conv2D)       (None, 56, 56, 256)       590080    \n",
            "                                                                 \n",
            " block3_pool (MaxPooling2D)  (None, 28, 28, 256)       0         \n",
            "                                                                 \n",
            " block4_conv1 (Conv2D)       (None, 28, 28, 512)       1180160   \n",
            "                                                                 \n",
            " block4_conv2 (Conv2D)       (None, 28, 28, 512)       2359808   \n",
            "                                                                 \n",
            " block4_conv3 (Conv2D)       (None, 28, 28, 512)       2359808   \n",
            "                                                                 \n",
            " block4_pool (MaxPooling2D)  (None, 14, 14, 512)       0         \n",
            "                                                                 \n",
            " block5_conv1 (Conv2D)       (None, 14, 14, 512)       2359808   \n",
            "                                                                 \n",
            " block5_conv2 (Conv2D)       (None, 14, 14, 512)       2359808   \n",
            "                                                                 \n",
            " block5_conv3 (Conv2D)       (None, 14, 14, 512)       2359808   \n",
            "                                                                 \n",
            " block5_pool (MaxPooling2D)  (None, 7, 7, 512)         0         \n",
            "                                                                 \n",
            "=================================================================\n",
            "Total params: 14,714,688\n",
            "Trainable params: 0\n",
            "Non-trainable params: 14,714,688\n",
            "_________________________________________________________________\n"
          ]
        }
      ]
    },
    {
      "cell_type": "code",
      "metadata": {
        "id": "vk_SaiACDmEO"
      },
      "source": [
        "global_average_layer = tf.keras.layers.GlobalAveragePooling2D()\n",
        "feature_batch_average = global_average_layer(feature_batch)\n",
        "\n",
        "prediction_layer = tf.keras.layers.Dense(1)\n",
        "prediction_batch = prediction_layer(feature_batch_average)"
      ],
      "execution_count": 12,
      "outputs": []
    },
    {
      "cell_type": "code",
      "metadata": {
        "id": "CPPyPOjTD3re"
      },
      "source": [
        "inputs = tf.keras.Input(shape=IMG_SHAPE)\n",
        "# x = data_augmentation(inputs)\n",
        "x = preprocess_input(inputs)\n",
        "x = base_model(x, training=False)\n",
        "x = global_average_layer(x)\n",
        "# x = layers.Dropout(0.2)(x)\n",
        "outputs = layers.Dense(1, activation='linear')(x)\n",
        "\n",
        "model = tf.keras.Model(inputs, outputs)"
      ],
      "execution_count": 13,
      "outputs": []
    },
    {
      "cell_type": "code",
      "metadata": {
        "colab": {
          "base_uri": "https://localhost:8080/"
        },
        "id": "VM1NwNXFOM-c",
        "outputId": "604ee0fe-ca86-4bf2-9e0e-019539c60689"
      },
      "source": [
        "base_learning_rate = 0.0001\n",
        "model.compile(optimizer = tf.keras.optimizers.RMSprop(lr=base_learning_rate),\n",
        "              loss = 'mse',\n",
        "              metrics = ['mae'])\n",
        "\n",
        "model.summary()"
      ],
      "execution_count": 14,
      "outputs": [
        {
          "output_type": "stream",
          "name": "stdout",
          "text": [
            "Model: \"model_1\"\n",
            "_________________________________________________________________\n",
            " Layer (type)                Output Shape              Param #   \n",
            "=================================================================\n",
            " input_4 (InputLayer)        [(None, 224, 224, 3)]     0         \n",
            "                                                                 \n",
            " tf.__operators__.getitem_1   (None, 224, 224, 3)      0         \n",
            " (SlicingOpLambda)                                               \n",
            "                                                                 \n",
            " tf.nn.bias_add_1 (TFOpLambd  (None, 224, 224, 3)      0         \n",
            " a)                                                              \n",
            "                                                                 \n",
            " vgg16 (Functional)          (None, 7, 7, 512)         14714688  \n",
            "                                                                 \n",
            " global_average_pooling2d_1   (None, 512)              0         \n",
            " (GlobalAveragePooling2D)                                        \n",
            "                                                                 \n",
            " dense_3 (Dense)             (None, 1)                 513       \n",
            "                                                                 \n",
            "=================================================================\n",
            "Total params: 14,715,201\n",
            "Trainable params: 513\n",
            "Non-trainable params: 14,714,688\n",
            "_________________________________________________________________\n"
          ]
        },
        {
          "output_type": "stream",
          "name": "stderr",
          "text": [
            "/usr/local/lib/python3.7/dist-packages/keras/optimizer_v2/rmsprop.py:130: UserWarning: The `lr` argument is deprecated, use `learning_rate` instead.\n",
            "  super(RMSprop, self).__init__(name, **kwargs)\n"
          ]
        }
      ]
    },
    {
      "cell_type": "code",
      "metadata": {
        "colab": {
          "base_uri": "https://localhost:8080/"
        },
        "id": "soC6svjw5kCS",
        "outputId": "5d0569ec-9ce4-4b37-fdf6-706acb98fd68"
      },
      "source": [
        "initial_epochs = 10\n",
        "\n",
        "history = model.fit_generator(train_ds,\n",
        "                              epochs=initial_epochs,\n",
        "                              validation_data=val_ds)"
      ],
      "execution_count": 15,
      "outputs": [
        {
          "output_type": "stream",
          "name": "stderr",
          "text": [
            "/usr/local/lib/python3.7/dist-packages/ipykernel_launcher.py:5: UserWarning: `Model.fit_generator` is deprecated and will be removed in a future version. Please use `Model.fit`, which supports generators.\n",
            "  \"\"\"\n"
          ]
        },
        {
          "output_type": "stream",
          "name": "stdout",
          "text": [
            "Epoch 1/10\n",
            "26/26 [==============================] - 180s 7s/step - loss: 24.2020 - mae: 3.9967 - val_loss: 16.7336 - val_mae: 3.2213\n",
            "Epoch 2/10\n",
            "26/26 [==============================] - 9s 327ms/step - loss: 18.0663 - mae: 3.3529 - val_loss: 15.0172 - val_mae: 3.0331\n",
            "Epoch 3/10\n",
            "26/26 [==============================] - 9s 327ms/step - loss: 16.5380 - mae: 3.1897 - val_loss: 14.0520 - val_mae: 2.9375\n",
            "Epoch 4/10\n",
            "26/26 [==============================] - 9s 328ms/step - loss: 15.4839 - mae: 3.0923 - val_loss: 13.2536 - val_mae: 2.8570\n",
            "Epoch 5/10\n",
            "26/26 [==============================] - 9s 328ms/step - loss: 14.5544 - mae: 2.9974 - val_loss: 12.6104 - val_mae: 2.7924\n",
            "Epoch 6/10\n",
            "26/26 [==============================] - 9s 330ms/step - loss: 13.6662 - mae: 2.9087 - val_loss: 11.8146 - val_mae: 2.7041\n",
            "Epoch 7/10\n",
            "26/26 [==============================] - 9s 326ms/step - loss: 12.8685 - mae: 2.8235 - val_loss: 11.4085 - val_mae: 2.6684\n",
            "Epoch 8/10\n",
            "26/26 [==============================] - 9s 325ms/step - loss: 12.2298 - mae: 2.7384 - val_loss: 10.7156 - val_mae: 2.5757\n",
            "Epoch 9/10\n",
            "26/26 [==============================] - 9s 325ms/step - loss: 11.5933 - mae: 2.6767 - val_loss: 10.3811 - val_mae: 2.5578\n",
            "Epoch 10/10\n",
            "26/26 [==============================] - 9s 327ms/step - loss: 10.9468 - mae: 2.5969 - val_loss: 9.7256 - val_mae: 2.4657\n"
          ]
        }
      ]
    },
    {
      "cell_type": "code",
      "metadata": {
        "colab": {
          "base_uri": "https://localhost:8080/",
          "height": 513
        },
        "id": "AbYFMSztGtf-",
        "outputId": "07bbaf44-0830-4036-93ac-de3b96fcfb21"
      },
      "source": [
        "mae = history.history['mae']\n",
        "val_mae = history.history['val_mae']\n",
        "\n",
        "loss = history.history['loss']\n",
        "val_loss = history.history['val_loss']\n",
        "\n",
        "plt.figure(figsize=(8, 8))\n",
        "plt.subplot(2, 1, 1)\n",
        "plt.plot(mae, label='Training MAE')\n",
        "plt.plot(val_mae, label='Validation MAE')\n",
        "plt.legend(loc='lower right')\n",
        "plt.xlabel('epoch')\n",
        "plt.ylabel('MAE')\n",
        "plt.title('Training and Validation MAE')\n",
        "\n",
        "plt.subplot(2, 1, 2)\n",
        "plt.plot(loss, label='Training Loss')\n",
        "plt.plot(val_loss, label='Validation Loss')\n",
        "plt.legend(loc='upper right')\n",
        "plt.xlabel('epoch')\n",
        "plt.ylabel('Cross Entropy')\n",
        "plt.title('Training and Validation Loss')\n",
        "plt.show()"
      ],
      "execution_count": 16,
      "outputs": [
        {
          "output_type": "display_data",
          "data": {
            "image/png": "[encoded data removed]",
            "text/plain": [
              "<Figure size 576x576 with 2 Axes>"
            ]
          },
          "metadata": {
            "needs_background": "light"
          }
        }
      ]
    },
    {
      "cell_type": "markdown",
      "metadata": {
        "id": "wAyW0-qtdo8o"
      },
      "source": [
        "# Model 3 (Filtered Data 2)"
      ]
    },
    {
      "cell_type": "code",
      "metadata": {
        "colab": {
          "base_uri": "https://localhost:8080/"
        },
        "id": "ZZOaoH15do8q",
        "outputId": "4bb94626-fb3d-44f9-d053-772a1a89157c"
      },
      "source": [
        "# 데이터셋 디렉터리 경로\n",
        "dataset_dir = '/content/drive/MyDrive/dataset_real_filtered2'\n",
        "# train_dir = os.path.join(dataset_dir, 'train')\n",
        "# val_dir = os.path.join(dataset_dir, 'val')\n",
        "\n",
        "# 사진 크기\n",
        "image_height = 224\n",
        "image_width = 224\n",
        "batch_size = 32\n",
        "\n",
        "\n",
        "\n",
        "train_ds = tf.keras.utils.image_dataset_from_directory(\n",
        "  dataset_dir,\n",
        "  validation_split=0.2,\n",
        "  subset=\"training\",\n",
        "  seed=123,\n",
        "  image_size=(image_height, image_width),\n",
        "  batch_size=batch_size)\n",
        "\n",
        "val_ds = tf.keras.utils.image_dataset_from_directory(\n",
        "  dataset_dir,\n",
        "  validation_split=0.2,\n",
        "  subset=\"validation\",\n",
        "  seed=123,\n",
        "  image_size=(image_height, image_width),\n",
        "  batch_size=batch_size)\n",
        "\n",
        "\n",
        "\n",
        "# 훈련셋에서 배치를 생성\n",
        "for image_batch, labels_batch in train_ds:\n",
        "    print(image_batch.shape)\n",
        "    print(labels_batch.shape)\n",
        "    break"
      ],
      "execution_count": 17,
      "outputs": [
        {
          "output_type": "stream",
          "name": "stdout",
          "text": [
            "Found 1006 files belonging to 4 classes.\n",
            "Using 805 files for training.\n",
            "Found 1006 files belonging to 4 classes.\n",
            "Using 201 files for validation.\n",
            "(32, 224, 224, 3)\n",
            "(32,)\n"
          ]
        }
      ]
    },
    {
      "cell_type": "code",
      "metadata": {
        "colab": {
          "base_uri": "https://localhost:8080/"
        },
        "id": "b-h2RbY-do8t",
        "outputId": "feb5b1b6-3fb7-4b10-8278-2baa540f3416"
      },
      "source": [
        "preprocess_input = tf.keras.applications.vgg16.preprocess_input\n",
        "\n",
        "IMG_SHAPE = (image_height, image_width) + (3,)\n",
        "base_model = VGG16(input_shape=IMG_SHAPE,\n",
        "                   include_top=False,\n",
        "                   weights='imagenet')\n",
        "\n",
        "\n",
        "\n",
        "normalization_layer = layers.Rescaling(1./255)\n",
        "normalized_ds = train_ds.map(lambda x, y: (normalization_layer(x), y))\n",
        "image_batch, labels_batch = next(iter(normalized_ds))\n",
        "feature_batch = base_model(image_batch)\n",
        "\n",
        "base_model.trainable = False\n",
        "base_model.summary()"
      ],
      "execution_count": 18,
      "outputs": [
        {
          "output_type": "stream",
          "name": "stdout",
          "text": [
            "Model: \"vgg16\"\n",
            "_________________________________________________________________\n",
            " Layer (type)                Output Shape              Param #   \n",
            "=================================================================\n",
            " input_5 (InputLayer)        [(None, 224, 224, 3)]     0         \n",
            "                                                                 \n",
            " block1_conv1 (Conv2D)       (None, 224, 224, 64)      1792      \n",
            "                                                                 \n",
            " block1_conv2 (Conv2D)       (None, 224, 224, 64)      36928     \n",
            "                                                                 \n",
            " block1_pool (MaxPooling2D)  (None, 112, 112, 64)      0         \n",
            "                                                                 \n",
            " block2_conv1 (Conv2D)       (None, 112, 112, 128)     73856     \n",
            "                                                                 \n",
            " block2_conv2 (Conv2D)       (None, 112, 112, 128)     147584    \n",
            "                                                                 \n",
            " block2_pool (MaxPooling2D)  (None, 56, 56, 128)       0         \n",
            "                                                                 \n",
            " block3_conv1 (Conv2D)       (None, 56, 56, 256)       295168    \n",
            "                                                                 \n",
            " block3_conv2 (Conv2D)       (None, 56, 56, 256)       590080    \n",
            "                                                                 \n",
            " block3_conv3 (Conv2D)       (None, 56, 56, 256)       590080    \n",
            "                                                                 \n",
            " block3_pool (MaxPooling2D)  (None, 28, 28, 256)       0         \n",
            "                                                                 \n",
            " block4_conv1 (Conv2D)       (None, 28, 28, 512)       1180160   \n",
            "                                                                 \n",
            " block4_conv2 (Conv2D)       (None, 28, 28, 512)       2359808   \n",
            "                                                                 \n",
            " block4_conv3 (Conv2D)       (None, 28, 28, 512)       2359808   \n",
            "                                                                 \n",
            " block4_pool (MaxPooling2D)  (None, 14, 14, 512)       0         \n",
            "                                                                 \n",
            " block5_conv1 (Conv2D)       (None, 14, 14, 512)       2359808   \n",
            "                                                                 \n",
            " block5_conv2 (Conv2D)       (None, 14, 14, 512)       2359808   \n",
            "                                                                 \n",
            " block5_conv3 (Conv2D)       (None, 14, 14, 512)       2359808   \n",
            "                                                                 \n",
            " block5_pool (MaxPooling2D)  (None, 7, 7, 512)         0         \n",
            "                                                                 \n",
            "=================================================================\n",
            "Total params: 14,714,688\n",
            "Trainable params: 0\n",
            "Non-trainable params: 14,714,688\n",
            "_________________________________________________________________\n"
          ]
        }
      ]
    },
    {
      "cell_type": "code",
      "metadata": {
        "id": "gLuUOB4ddo8t"
      },
      "source": [
        "global_average_layer = tf.keras.layers.GlobalAveragePooling2D()\n",
        "feature_batch_average = global_average_layer(feature_batch)\n",
        "\n",
        "prediction_layer = tf.keras.layers.Dense(1)\n",
        "prediction_batch = prediction_layer(feature_batch_average)"
      ],
      "execution_count": 19,
      "outputs": []
    },
    {
      "cell_type": "code",
      "metadata": {
        "id": "SPhG3wERdo8u"
      },
      "source": [
        "inputs = tf.keras.Input(shape=IMG_SHAPE)\n",
        "# x = data_augmentation(inputs)\n",
        "x = preprocess_input(inputs)\n",
        "x = base_model(x, training=False)\n",
        "x = global_average_layer(x)\n",
        "# x = layers.Dropout(0.2)(x)\n",
        "outputs = layers.Dense(1, activation='linear')(x)\n",
        "\n",
        "model = tf.keras.Model(inputs, outputs)"
      ],
      "execution_count": 20,
      "outputs": []
    },
    {
      "cell_type": "code",
      "metadata": {
        "colab": {
          "base_uri": "https://localhost:8080/"
        },
        "id": "w1rzV5AXdo8v",
        "outputId": "62175768-9e6d-4e11-fb39-7086ad3f3afe"
      },
      "source": [
        "base_learning_rate = 0.0001\n",
        "model.compile(optimizer = tf.keras.optimizers.RMSprop(lr=base_learning_rate),\n",
        "              loss = 'mse',\n",
        "              metrics = ['mae'])\n",
        "\n",
        "model.summary()"
      ],
      "execution_count": 21,
      "outputs": [
        {
          "output_type": "stream",
          "name": "stdout",
          "text": [
            "Model: \"model_2\"\n",
            "_________________________________________________________________\n",
            " Layer (type)                Output Shape              Param #   \n",
            "=================================================================\n",
            " input_6 (InputLayer)        [(None, 224, 224, 3)]     0         \n",
            "                                                                 \n",
            " tf.__operators__.getitem_2   (None, 224, 224, 3)      0         \n",
            " (SlicingOpLambda)                                               \n",
            "                                                                 \n",
            " tf.nn.bias_add_2 (TFOpLambd  (None, 224, 224, 3)      0         \n",
            " a)                                                              \n",
            "                                                                 \n",
            " vgg16 (Functional)          (None, 7, 7, 512)         14714688  \n",
            "                                                                 \n",
            " global_average_pooling2d_2   (None, 512)              0         \n",
            " (GlobalAveragePooling2D)                                        \n",
            "                                                                 \n",
            " dense_5 (Dense)             (None, 1)                 513       \n",
            "                                                                 \n",
            "=================================================================\n",
            "Total params: 14,715,201\n",
            "Trainable params: 513\n",
            "Non-trainable params: 14,714,688\n",
            "_________________________________________________________________\n"
          ]
        },
        {
          "output_type": "stream",
          "name": "stderr",
          "text": [
            "/usr/local/lib/python3.7/dist-packages/keras/optimizer_v2/rmsprop.py:130: UserWarning: The `lr` argument is deprecated, use `learning_rate` instead.\n",
            "  super(RMSprop, self).__init__(name, **kwargs)\n"
          ]
        }
      ]
    },
    {
      "cell_type": "code",
      "metadata": {
        "colab": {
          "base_uri": "https://localhost:8080/"
        },
        "id": "B7jB9IiAdo8v",
        "outputId": "89a376ed-f718-4a8a-b810-56088b02d354"
      },
      "source": [
        "initial_epochs = 10\n",
        "\n",
        "history = model.fit_generator(train_ds,\n",
        "                              epochs=initial_epochs,\n",
        "                              validation_data=val_ds)"
      ],
      "execution_count": 22,
      "outputs": [
        {
          "output_type": "stream",
          "name": "stderr",
          "text": [
            "/usr/local/lib/python3.7/dist-packages/ipykernel_launcher.py:5: UserWarning: `Model.fit_generator` is deprecated and will be removed in a future version. Please use `Model.fit`, which supports generators.\n",
            "  \"\"\"\n"
          ]
        },
        {
          "output_type": "stream",
          "name": "stdout",
          "text": [
            "Epoch 1/10\n",
            "26/26 [==============================] - 183s 7s/step - loss: 21.9539 - mae: 3.7769 - val_loss: 22.5852 - val_mae: 3.8076\n",
            "Epoch 2/10\n",
            "26/26 [==============================] - 9s 328ms/step - loss: 20.1814 - mae: 3.6316 - val_loss: 20.4905 - val_mae: 3.6189\n",
            "Epoch 3/10\n",
            "26/26 [==============================] - 9s 329ms/step - loss: 18.7823 - mae: 3.4985 - val_loss: 18.8704 - val_mae: 3.4707\n",
            "Epoch 4/10\n",
            "26/26 [==============================] - 9s 327ms/step - loss: 17.3518 - mae: 3.3608 - val_loss: 17.5459 - val_mae: 3.3429\n",
            "Epoch 5/10\n",
            "26/26 [==============================] - 9s 329ms/step - loss: 16.1095 - mae: 3.2399 - val_loss: 16.1053 - val_mae: 3.1966\n",
            "Epoch 6/10\n",
            "26/26 [==============================] - 9s 329ms/step - loss: 15.1118 - mae: 3.1342 - val_loss: 15.0575 - val_mae: 3.0814\n",
            "Epoch 7/10\n",
            "26/26 [==============================] - 9s 329ms/step - loss: 14.0286 - mae: 3.0220 - val_loss: 14.1224 - val_mae: 2.9756\n",
            "Epoch 8/10\n",
            "26/26 [==============================] - 9s 327ms/step - loss: 13.0849 - mae: 2.9168 - val_loss: 12.9569 - val_mae: 2.8551\n",
            "Epoch 9/10\n",
            "26/26 [==============================] - 9s 325ms/step - loss: 12.2825 - mae: 2.8281 - val_loss: 12.1882 - val_mae: 2.7766\n",
            "Epoch 10/10\n",
            "26/26 [==============================] - 9s 328ms/step - loss: 11.6638 - mae: 2.7436 - val_loss: 11.6719 - val_mae: 2.6970\n"
          ]
        }
      ]
    },
    {
      "cell_type": "code",
      "metadata": {
        "colab": {
          "base_uri": "https://localhost:8080/",
          "height": 513
        },
        "id": "Rjgu_DM9do8w",
        "outputId": "7dd3b70f-4e6e-4088-faa2-57e1e4ba0802"
      },
      "source": [
        "mae = history.history['mae']\n",
        "val_mae = history.history['val_mae']\n",
        "\n",
        "loss = history.history['loss']\n",
        "val_loss = history.history['val_loss']\n",
        "\n",
        "plt.figure(figsize=(8, 8))\n",
        "plt.subplot(2, 1, 1)\n",
        "plt.plot(mae, label='Training MAE')\n",
        "plt.plot(val_mae, label='Validation MAE')\n",
        "plt.legend(loc='lower right')\n",
        "plt.xlabel('epoch')\n",
        "plt.ylabel('MAE')\n",
        "plt.title('Training and Validation MAE')\n",
        "\n",
        "plt.subplot(2, 1, 2)\n",
        "plt.plot(loss, label='Training Loss')\n",
        "plt.plot(val_loss, label='Validation Loss')\n",
        "plt.legend(loc='upper right')\n",
        "plt.xlabel('epoch')\n",
        "plt.ylabel('Cross Entropy')\n",
        "plt.title('Training and Validation Loss')\n",
        "plt.show()"
      ],
      "execution_count": 23,
      "outputs": [
        {
          "output_type": "display_data",
          "data": {
            "image/png": "[encoded data removed]",
            "text/plain": [
              "<Figure size 576x576 with 2 Axes>"
            ]
          },
          "metadata": {
            "needs_background": "light"
          }
        }
      ]
    }
  ]
}