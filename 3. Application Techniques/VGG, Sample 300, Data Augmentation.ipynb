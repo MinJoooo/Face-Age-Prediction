{
  "nbformat": 4,
  "nbformat_minor": 0,
  "metadata": {
    "colab": {
      "name": "Data_Augmentation_Comparison.ipynb",
      "provenance": [],
      "collapsed_sections": []
    },
    "kernelspec": {
      "name": "python3",
      "display_name": "Python 3"
    },
    "language_info": {
      "name": "python"
    },
    "accelerator": "GPU"
  },
  "cells": [
    {
      "cell_type": "markdown",
      "metadata": {
        "id": "AshSPQdRZJ2T"
      },
      "source": [
        "# Data Augmentation"
      ]
    },
    {
      "cell_type": "code",
      "metadata": {
        "id": "K-JspLpTzGy4"
      },
      "source": [
        "import tensorflow as tf\n",
        "from tensorflow.keras import models\n",
        "from tensorflow.keras import layers\n",
        "from tensorflow.keras import optimizers, losses, metrics\n",
        "\n",
        "from tensorflow.keras.utils import to_categorical\n",
        "from tensorflow.keras.preprocessing.image import ImageDataGenerator\n",
        "\n",
        "from tensorflow.keras.applications.vgg16 import VGG16\n",
        "from tensorflow.keras.applications.vgg19 import VGG19\n",
        "from tensorflow.keras.optimizers import RMSprop\n",
        "\n",
        "import numpy as np\n",
        "import matplotlib.pyplot as plt\n",
        "import PIL\n",
        "import os"
      ],
      "execution_count": 24,
      "outputs": []
    },
    {
      "cell_type": "code",
      "metadata": {
        "colab": {
          "base_uri": "https://localhost:8080/"
        },
        "id": "JWXCvz95Mjjg",
        "outputId": "159fe485-10ba-439b-8561-48235267150d"
      },
      "source": [
        "from google.colab import drive\n",
        "drive.mount('/content/drive')"
      ],
      "execution_count": 25,
      "outputs": [
        {
          "output_type": "stream",
          "name": "stdout",
          "text": [
            "Drive already mounted at /content/drive; to attempt to forcibly remount, call drive.mount(\"/content/drive\", force_remount=True).\n"
          ]
        }
      ]
    },
    {
      "cell_type": "code",
      "metadata": {
        "colab": {
          "base_uri": "https://localhost:8080/"
        },
        "id": "Dbs2Ee3H0Tv3",
        "outputId": "084b15d5-ad96-49b0-957d-bc1cdd205295"
      },
      "source": [
        "# 데이터셋 디렉터리 경로\n",
        "dataset_dir = '/content/drive/MyDrive/dataset_real'\n",
        "# train_dir = os.path.join(dataset_dir, 'train')\n",
        "# val_dir = os.path.join(dataset_dir, 'val')\n",
        "\n",
        "# 사진 크기\n",
        "image_height = 224\n",
        "image_width = 224\n",
        "batch_size = 32\n",
        "\n",
        "\n",
        "\n",
        "train_ds = tf.keras.utils.image_dataset_from_directory(\n",
        "  dataset_dir,\n",
        "  validation_split=0.2,\n",
        "  subset=\"training\",\n",
        "  seed=123,\n",
        "  image_size=(image_height, image_width),\n",
        "  batch_size=batch_size)\n",
        "\n",
        "val_ds = tf.keras.utils.image_dataset_from_directory(\n",
        "  dataset_dir,\n",
        "  validation_split=0.2,\n",
        "  subset=\"validation\",\n",
        "  seed=123,\n",
        "  image_size=(image_height, image_width),\n",
        "  batch_size=batch_size)\n",
        "\n",
        "\n",
        "\n",
        "# 훈련셋에서 배치를 생성\n",
        "for image_batch, labels_batch in train_ds:\n",
        "    print(image_batch.shape)\n",
        "    print(labels_batch.shape)\n",
        "    break"
      ],
      "execution_count": 26,
      "outputs": [
        {
          "output_type": "stream",
          "name": "stdout",
          "text": [
            "Found 1006 files belonging to 4 classes.\n",
            "Using 805 files for training.\n",
            "Found 1006 files belonging to 4 classes.\n",
            "Using 201 files for validation.\n",
            "(32, 224, 224, 3)\n",
            "(32,)\n"
          ]
        }
      ]
    },
    {
      "cell_type": "markdown",
      "metadata": {
        "id": "RjKi5DZAR_Vh"
      },
      "source": [
        "# Model 1 (Original)"
      ]
    },
    {
      "cell_type": "code",
      "metadata": {
        "colab": {
          "base_uri": "https://localhost:8080/"
        },
        "id": "j2MxdH5AR78B",
        "outputId": "384e13dd-eccc-4fd5-b482-a3e146c9c5b7"
      },
      "source": [
        "preprocess_input = tf.keras.applications.vgg16.preprocess_input\n",
        "\n",
        "IMG_SHAPE = (image_height, image_width) + (3,)\n",
        "base_model = VGG16(input_shape=IMG_SHAPE,\n",
        "                   include_top=False,\n",
        "                   weights='imagenet')\n",
        "\n",
        "\n",
        "\n",
        "normalization_layer = layers.Rescaling(1./255)\n",
        "normalized_ds = train_ds.map(lambda x, y: (normalization_layer(x), y))\n",
        "image_batch, labels_batch = next(iter(normalized_ds))\n",
        "feature_batch = base_model(image_batch)\n",
        "\n",
        "base_model.trainable = False\n",
        "base_model.summary()"
      ],
      "execution_count": 27,
      "outputs": [
        {
          "output_type": "stream",
          "name": "stdout",
          "text": [
            "Model: \"vgg16\"\n",
            "_________________________________________________________________\n",
            " Layer (type)                Output Shape              Param #   \n",
            "=================================================================\n",
            " input_7 (InputLayer)        [(None, 224, 224, 3)]     0         \n",
            "                                                                 \n",
            " block1_conv1 (Conv2D)       (None, 224, 224, 64)      1792      \n",
            "                                                                 \n",
            " block1_conv2 (Conv2D)       (None, 224, 224, 64)      36928     \n",
            "                                                                 \n",
            " block1_pool (MaxPooling2D)  (None, 112, 112, 64)      0         \n",
            "                                                                 \n",
            " block2_conv1 (Conv2D)       (None, 112, 112, 128)     73856     \n",
            "                                                                 \n",
            " block2_conv2 (Conv2D)       (None, 112, 112, 128)     147584    \n",
            "                                                                 \n",
            " block2_pool (MaxPooling2D)  (None, 56, 56, 128)       0         \n",
            "                                                                 \n",
            " block3_conv1 (Conv2D)       (None, 56, 56, 256)       295168    \n",
            "                                                                 \n",
            " block3_conv2 (Conv2D)       (None, 56, 56, 256)       590080    \n",
            "                                                                 \n",
            " block3_conv3 (Conv2D)       (None, 56, 56, 256)       590080    \n",
            "                                                                 \n",
            " block3_pool (MaxPooling2D)  (None, 28, 28, 256)       0         \n",
            "                                                                 \n",
            " block4_conv1 (Conv2D)       (None, 28, 28, 512)       1180160   \n",
            "                                                                 \n",
            " block4_conv2 (Conv2D)       (None, 28, 28, 512)       2359808   \n",
            "                                                                 \n",
            " block4_conv3 (Conv2D)       (None, 28, 28, 512)       2359808   \n",
            "                                                                 \n",
            " block4_pool (MaxPooling2D)  (None, 14, 14, 512)       0         \n",
            "                                                                 \n",
            " block5_conv1 (Conv2D)       (None, 14, 14, 512)       2359808   \n",
            "                                                                 \n",
            " block5_conv2 (Conv2D)       (None, 14, 14, 512)       2359808   \n",
            "                                                                 \n",
            " block5_conv3 (Conv2D)       (None, 14, 14, 512)       2359808   \n",
            "                                                                 \n",
            " block5_pool (MaxPooling2D)  (None, 7, 7, 512)         0         \n",
            "                                                                 \n",
            "=================================================================\n",
            "Total params: 14,714,688\n",
            "Trainable params: 0\n",
            "Non-trainable params: 14,714,688\n",
            "_________________________________________________________________\n"
          ]
        }
      ]
    },
    {
      "cell_type": "code",
      "metadata": {
        "id": "-4c99tXTR78K"
      },
      "source": [
        "global_average_layer = tf.keras.layers.GlobalAveragePooling2D()\n",
        "feature_batch_average = global_average_layer(feature_batch)\n",
        "\n",
        "prediction_layer = tf.keras.layers.Dense(1)\n",
        "prediction_batch = prediction_layer(feature_batch_average)"
      ],
      "execution_count": 28,
      "outputs": []
    },
    {
      "cell_type": "code",
      "metadata": {
        "id": "1np82dCxR78L"
      },
      "source": [
        "inputs = tf.keras.Input(shape=IMG_SHAPE)\n",
        "x = preprocess_input(inputs)\n",
        "x = base_model(x, training=False)\n",
        "x = global_average_layer(x)\n",
        "outputs = layers.Dense(1, activation='linear')(x)\n",
        "\n",
        "model = tf.keras.Model(inputs, outputs)"
      ],
      "execution_count": 29,
      "outputs": []
    },
    {
      "cell_type": "code",
      "metadata": {
        "colab": {
          "base_uri": "https://localhost:8080/"
        },
        "id": "tk_jIhgrR78L",
        "outputId": "ab4a99fb-c0fd-4f0c-ee98-6adee58730ae"
      },
      "source": [
        "base_learning_rate = 0.0001\n",
        "model.compile(optimizer = tf.keras.optimizers.RMSprop(lr=base_learning_rate),\n",
        "              loss = 'mse',\n",
        "              metrics = ['mae'])\n",
        "\n",
        "model.summary()"
      ],
      "execution_count": 30,
      "outputs": [
        {
          "output_type": "stream",
          "name": "stdout",
          "text": [
            "Model: \"model_3\"\n",
            "_________________________________________________________________\n",
            " Layer (type)                Output Shape              Param #   \n",
            "=================================================================\n",
            " input_8 (InputLayer)        [(None, 224, 224, 3)]     0         \n",
            "                                                                 \n",
            " tf.__operators__.getitem_3   (None, 224, 224, 3)      0         \n",
            " (SlicingOpLambda)                                               \n",
            "                                                                 \n",
            " tf.nn.bias_add_3 (TFOpLambd  (None, 224, 224, 3)      0         \n",
            " a)                                                              \n",
            "                                                                 \n",
            " vgg16 (Functional)          (None, 7, 7, 512)         14714688  \n",
            "                                                                 \n",
            " global_average_pooling2d_3   (None, 512)              0         \n",
            " (GlobalAveragePooling2D)                                        \n",
            "                                                                 \n",
            " dense_7 (Dense)             (None, 1)                 513       \n",
            "                                                                 \n",
            "=================================================================\n",
            "Total params: 14,715,201\n",
            "Trainable params: 513\n",
            "Non-trainable params: 14,714,688\n",
            "_________________________________________________________________\n"
          ]
        },
        {
          "output_type": "stream",
          "name": "stderr",
          "text": [
            "/usr/local/lib/python3.7/dist-packages/keras/optimizer_v2/rmsprop.py:130: UserWarning: The `lr` argument is deprecated, use `learning_rate` instead.\n",
            "  super(RMSprop, self).__init__(name, **kwargs)\n"
          ]
        }
      ]
    },
    {
      "cell_type": "code",
      "metadata": {
        "colab": {
          "base_uri": "https://localhost:8080/"
        },
        "id": "HS66pj0dR78M",
        "outputId": "2c708776-fb5a-4c9f-da12-3d1003fe0432"
      },
      "source": [
        "initial_epochs = 10\n",
        "\n",
        "history = model.fit_generator(train_ds,\n",
        "                              epochs=initial_epochs,\n",
        "                              validation_data=val_ds)"
      ],
      "execution_count": 31,
      "outputs": [
        {
          "output_type": "stream",
          "name": "stderr",
          "text": [
            "/usr/local/lib/python3.7/dist-packages/ipykernel_launcher.py:5: UserWarning: `Model.fit_generator` is deprecated and will be removed in a future version. Please use `Model.fit`, which supports generators.\n",
            "  \"\"\"\n"
          ]
        },
        {
          "output_type": "stream",
          "name": "stdout",
          "text": [
            "Epoch 1/10\n",
            "26/26 [==============================] - 9s 316ms/step - loss: 24.6813 - mae: 4.3564 - val_loss: 16.3691 - val_mae: 3.5230\n",
            "Epoch 2/10\n",
            "26/26 [==============================] - 8s 304ms/step - loss: 14.9922 - mae: 3.2783 - val_loss: 10.6886 - val_mae: 2.6779\n",
            "Epoch 3/10\n",
            "26/26 [==============================] - 8s 305ms/step - loss: 10.1516 - mae: 2.5896 - val_loss: 7.8979 - val_mae: 2.2101\n",
            "Epoch 4/10\n",
            "26/26 [==============================] - 8s 306ms/step - loss: 8.0257 - mae: 2.2162 - val_loss: 6.9014 - val_mae: 2.0201\n",
            "Epoch 5/10\n",
            "26/26 [==============================] - 8s 307ms/step - loss: 7.1812 - mae: 2.0508 - val_loss: 6.3862 - val_mae: 1.9333\n",
            "Epoch 6/10\n",
            "26/26 [==============================] - 8s 307ms/step - loss: 6.6121 - mae: 1.9627 - val_loss: 5.9541 - val_mae: 1.8501\n",
            "Epoch 7/10\n",
            "26/26 [==============================] - 8s 305ms/step - loss: 6.1425 - mae: 1.8828 - val_loss: 5.5645 - val_mae: 1.7997\n",
            "Epoch 8/10\n",
            "26/26 [==============================] - 8s 306ms/step - loss: 5.7123 - mae: 1.8271 - val_loss: 5.2267 - val_mae: 1.7444\n",
            "Epoch 9/10\n",
            "26/26 [==============================] - 8s 306ms/step - loss: 5.3258 - mae: 1.7666 - val_loss: 4.9204 - val_mae: 1.6925\n",
            "Epoch 10/10\n",
            "26/26 [==============================] - 8s 307ms/step - loss: 4.9894 - mae: 1.7148 - val_loss: 4.6849 - val_mae: 1.6480\n"
          ]
        }
      ]
    },
    {
      "cell_type": "code",
      "metadata": {
        "colab": {
          "base_uri": "https://localhost:8080/",
          "height": 499
        },
        "id": "rNYfGW35R78M",
        "outputId": "8a3bb64e-5138-4365-d87c-5d29187a19be"
      },
      "source": [
        "mae = history.history['mae']\n",
        "val_mae = history.history['val_mae']\n",
        "\n",
        "loss = history.history['loss']\n",
        "val_loss = history.history['val_loss']\n",
        "\n",
        "plt.figure(figsize=(8, 8))\n",
        "plt.subplot(2, 1, 1)\n",
        "plt.plot(mae, label='Training MAE')\n",
        "plt.plot(val_mae, label='Validation MAE')\n",
        "plt.legend(loc='lower right')\n",
        "plt.ylabel('MAE')\n",
        "plt.title('Training and Validation MAE')\n",
        "\n",
        "plt.subplot(2, 1, 2)\n",
        "plt.plot(loss, label='Training Loss')\n",
        "plt.plot(val_loss, label='Validation Loss')\n",
        "plt.legend(loc='upper right')\n",
        "plt.ylabel('Cross Entropy')\n",
        "plt.title('Training and Validation Loss')\n",
        "plt.show()"
      ],
      "execution_count": 32,
      "outputs": [
        {
          "output_type": "display_data",
          "data": {
            "image/png": "[encoded data removed]",
            "text/plain": [
              "<Figure size 576x576 with 2 Axes>"
            ]
          },
          "metadata": {
            "needs_background": "light"
          }
        }
      ]
    },
    {
      "cell_type": "markdown",
      "metadata": {
        "id": "QWbsmGMIyQGi"
      },
      "source": [
        "# Model 2 (Only Horizontal)"
      ]
    },
    {
      "cell_type": "code",
      "metadata": {
        "id": "kWp2GhNOyQGj"
      },
      "source": [
        "data_augmentation = tf.keras.Sequential([\n",
        "  tf.keras.layers.RandomFlip('horizontal')\n",
        "])"
      ],
      "execution_count": 33,
      "outputs": []
    },
    {
      "cell_type": "code",
      "metadata": {
        "colab": {
          "base_uri": "https://localhost:8080/"
        },
        "id": "_vbtL0UiyQGl",
        "outputId": "c15b6785-1761-44df-8531-c615991065a0"
      },
      "source": [
        "preprocess_input = tf.keras.applications.vgg16.preprocess_input\n",
        "\n",
        "IMG_SHAPE = (image_height, image_width) + (3,)\n",
        "base_model = VGG16(input_shape=IMG_SHAPE,\n",
        "                   include_top=False,\n",
        "                   weights='imagenet')\n",
        "\n",
        "\n",
        "\n",
        "normalization_layer = layers.Rescaling(1./255)\n",
        "normalized_ds = train_ds.map(lambda x, y: (normalization_layer(x), y))\n",
        "image_batch, labels_batch = next(iter(normalized_ds))\n",
        "feature_batch = base_model(image_batch)\n",
        "\n",
        "base_model.trainable = False\n",
        "base_model.summary()"
      ],
      "execution_count": 34,
      "outputs": [
        {
          "output_type": "stream",
          "name": "stdout",
          "text": [
            "Model: \"vgg16\"\n",
            "_________________________________________________________________\n",
            " Layer (type)                Output Shape              Param #   \n",
            "=================================================================\n",
            " input_9 (InputLayer)        [(None, 224, 224, 3)]     0         \n",
            "                                                                 \n",
            " block1_conv1 (Conv2D)       (None, 224, 224, 64)      1792      \n",
            "                                                                 \n",
            " block1_conv2 (Conv2D)       (None, 224, 224, 64)      36928     \n",
            "                                                                 \n",
            " block1_pool (MaxPooling2D)  (None, 112, 112, 64)      0         \n",
            "                                                                 \n",
            " block2_conv1 (Conv2D)       (None, 112, 112, 128)     73856     \n",
            "                                                                 \n",
            " block2_conv2 (Conv2D)       (None, 112, 112, 128)     147584    \n",
            "                                                                 \n",
            " block2_pool (MaxPooling2D)  (None, 56, 56, 128)       0         \n",
            "                                                                 \n",
            " block3_conv1 (Conv2D)       (None, 56, 56, 256)       295168    \n",
            "                                                                 \n",
            " block3_conv2 (Conv2D)       (None, 56, 56, 256)       590080    \n",
            "                                                                 \n",
            " block3_conv3 (Conv2D)       (None, 56, 56, 256)       590080    \n",
            "                                                                 \n",
            " block3_pool (MaxPooling2D)  (None, 28, 28, 256)       0         \n",
            "                                                                 \n",
            " block4_conv1 (Conv2D)       (None, 28, 28, 512)       1180160   \n",
            "                                                                 \n",
            " block4_conv2 (Conv2D)       (None, 28, 28, 512)       2359808   \n",
            "                                                                 \n",
            " block4_conv3 (Conv2D)       (None, 28, 28, 512)       2359808   \n",
            "                                                                 \n",
            " block4_pool (MaxPooling2D)  (None, 14, 14, 512)       0         \n",
            "                                                                 \n",
            " block5_conv1 (Conv2D)       (None, 14, 14, 512)       2359808   \n",
            "                                                                 \n",
            " block5_conv2 (Conv2D)       (None, 14, 14, 512)       2359808   \n",
            "                                                                 \n",
            " block5_conv3 (Conv2D)       (None, 14, 14, 512)       2359808   \n",
            "                                                                 \n",
            " block5_pool (MaxPooling2D)  (None, 7, 7, 512)         0         \n",
            "                                                                 \n",
            "=================================================================\n",
            "Total params: 14,714,688\n",
            "Trainable params: 0\n",
            "Non-trainable params: 14,714,688\n",
            "_________________________________________________________________\n"
          ]
        }
      ]
    },
    {
      "cell_type": "code",
      "metadata": {
        "id": "Vktu9lpayQGm"
      },
      "source": [
        "global_average_layer = tf.keras.layers.GlobalAveragePooling2D()\n",
        "feature_batch_average = global_average_layer(feature_batch)\n",
        "\n",
        "prediction_layer = tf.keras.layers.Dense(1)\n",
        "prediction_batch = prediction_layer(feature_batch_average)"
      ],
      "execution_count": 35,
      "outputs": []
    },
    {
      "cell_type": "code",
      "metadata": {
        "id": "SQegFrmWyQGn"
      },
      "source": [
        "inputs = tf.keras.Input(shape=IMG_SHAPE)\n",
        "x = data_augmentation(inputs)\n",
        "x = preprocess_input(x)\n",
        "x = base_model(x, training=False)\n",
        "x = global_average_layer(x)\n",
        "outputs = layers.Dense(1, activation='linear')(x)\n",
        "\n",
        "model = tf.keras.Model(inputs, outputs)"
      ],
      "execution_count": 36,
      "outputs": []
    },
    {
      "cell_type": "code",
      "metadata": {
        "colab": {
          "base_uri": "https://localhost:8080/"
        },
        "id": "KXpXCMJkyQGo",
        "outputId": "5602234d-cded-4420-c23b-6327298cbee2"
      },
      "source": [
        "base_learning_rate = 0.0001\n",
        "model.compile(optimizer = tf.keras.optimizers.RMSprop(lr=base_learning_rate),\n",
        "              loss = 'mse',\n",
        "              metrics = ['mae'])\n",
        "\n",
        "model.summary()"
      ],
      "execution_count": 37,
      "outputs": [
        {
          "output_type": "stream",
          "name": "stdout",
          "text": [
            "Model: \"model_4\"\n",
            "_________________________________________________________________\n",
            " Layer (type)                Output Shape              Param #   \n",
            "=================================================================\n",
            " input_10 (InputLayer)       [(None, 224, 224, 3)]     0         \n",
            "                                                                 \n",
            " sequential_2 (Sequential)   (None, 224, 224, 3)       0         \n",
            "                                                                 \n",
            " tf.__operators__.getitem_4   (None, 224, 224, 3)      0         \n",
            " (SlicingOpLambda)                                               \n",
            "                                                                 \n",
            " tf.nn.bias_add_4 (TFOpLambd  (None, 224, 224, 3)      0         \n",
            " a)                                                              \n",
            "                                                                 \n",
            " vgg16 (Functional)          (None, 7, 7, 512)         14714688  \n",
            "                                                                 \n",
            " global_average_pooling2d_4   (None, 512)              0         \n",
            " (GlobalAveragePooling2D)                                        \n",
            "                                                                 \n",
            " dense_9 (Dense)             (None, 1)                 513       \n",
            "                                                                 \n",
            "=================================================================\n",
            "Total params: 14,715,201\n",
            "Trainable params: 513\n",
            "Non-trainable params: 14,714,688\n",
            "_________________________________________________________________\n"
          ]
        },
        {
          "output_type": "stream",
          "name": "stderr",
          "text": [
            "/usr/local/lib/python3.7/dist-packages/keras/optimizer_v2/rmsprop.py:130: UserWarning: The `lr` argument is deprecated, use `learning_rate` instead.\n",
            "  super(RMSprop, self).__init__(name, **kwargs)\n"
          ]
        }
      ]
    },
    {
      "cell_type": "code",
      "metadata": {
        "colab": {
          "base_uri": "https://localhost:8080/"
        },
        "id": "Q-pYx9rXyQGp",
        "outputId": "31d9dd85-6f56-4943-b522-584141e41e07"
      },
      "source": [
        "initial_epochs = 10\n",
        "\n",
        "history = model.fit_generator(train_ds,\n",
        "                              epochs=initial_epochs,\n",
        "                              validation_data=val_ds)"
      ],
      "execution_count": 38,
      "outputs": [
        {
          "output_type": "stream",
          "name": "stderr",
          "text": [
            "/usr/local/lib/python3.7/dist-packages/ipykernel_launcher.py:5: UserWarning: `Model.fit_generator` is deprecated and will be removed in a future version. Please use `Model.fit`, which supports generators.\n",
            "  \"\"\"\n"
          ]
        },
        {
          "output_type": "stream",
          "name": "stdout",
          "text": [
            "Epoch 1/10\n",
            "26/26 [==============================] - 10s 319ms/step - loss: 9.8802 - mae: 2.4220 - val_loss: 7.7580 - val_mae: 2.2231\n",
            "Epoch 2/10\n",
            "26/26 [==============================] - 8s 311ms/step - loss: 8.6846 - mae: 2.2588 - val_loss: 6.9171 - val_mae: 2.0957\n",
            "Epoch 3/10\n",
            "26/26 [==============================] - 8s 308ms/step - loss: 8.0703 - mae: 2.1524 - val_loss: 6.5117 - val_mae: 2.0327\n",
            "Epoch 4/10\n",
            "26/26 [==============================] - 8s 308ms/step - loss: 7.5453 - mae: 2.0953 - val_loss: 6.0542 - val_mae: 1.9606\n",
            "Epoch 5/10\n",
            "26/26 [==============================] - 8s 308ms/step - loss: 6.9919 - mae: 2.0018 - val_loss: 5.7374 - val_mae: 1.9051\n",
            "Epoch 6/10\n",
            "26/26 [==============================] - 8s 307ms/step - loss: 6.3849 - mae: 1.9308 - val_loss: 5.4273 - val_mae: 1.8495\n",
            "Epoch 7/10\n",
            "26/26 [==============================] - 8s 310ms/step - loss: 5.8588 - mae: 1.8548 - val_loss: 5.2106 - val_mae: 1.8075\n",
            "Epoch 8/10\n",
            "26/26 [==============================] - 8s 308ms/step - loss: 5.6672 - mae: 1.8178 - val_loss: 4.9732 - val_mae: 1.7640\n",
            "Epoch 9/10\n",
            "26/26 [==============================] - 9s 312ms/step - loss: 5.2767 - mae: 1.7498 - val_loss: 4.7171 - val_mae: 1.7219\n",
            "Epoch 10/10\n",
            "26/26 [==============================] - 8s 311ms/step - loss: 4.8101 - mae: 1.6930 - val_loss: 4.5531 - val_mae: 1.6882\n"
          ]
        }
      ]
    },
    {
      "cell_type": "code",
      "metadata": {
        "colab": {
          "base_uri": "https://localhost:8080/",
          "height": 499
        },
        "id": "XFufOZV_yQGp",
        "outputId": "38c02eb2-4829-4b17-a885-0c6ea4fab2f2"
      },
      "source": [
        "mae = history.history['mae']\n",
        "val_mae = history.history['val_mae']\n",
        "\n",
        "loss = history.history['loss']\n",
        "val_loss = history.history['val_loss']\n",
        "\n",
        "plt.figure(figsize=(8, 8))\n",
        "plt.subplot(2, 1, 1)\n",
        "plt.plot(mae, label='Training MAE')\n",
        "plt.plot(val_mae, label='Validation MAE')\n",
        "plt.legend(loc='lower right')\n",
        "plt.ylabel('MAE')\n",
        "plt.title('Training and Validation MAE')\n",
        "\n",
        "plt.subplot(2, 1, 2)\n",
        "plt.plot(loss, label='Training Loss')\n",
        "plt.plot(val_loss, label='Validation Loss')\n",
        "plt.legend(loc='upper right')\n",
        "plt.ylabel('Cross Entropy')\n",
        "plt.title('Training and Validation Loss')\n",
        "plt.show()"
      ],
      "execution_count": 39,
      "outputs": [
        {
          "output_type": "display_data",
          "data": {
            "image/png": "[encoded data removed]",
            "text/plain": [
              "<Figure size 576x576 with 2 Axes>"
            ]
          },
          "metadata": {
            "needs_background": "light"
          }
        }
      ]
    },
    {
      "cell_type": "markdown",
      "metadata": {
        "id": "x2yt4ON-TtlU"
      },
      "source": [
        "# Model 3 (Random Rotation 0.2)"
      ]
    },
    {
      "cell_type": "code",
      "metadata": {
        "id": "75TfF7r60r9N"
      },
      "source": [
        "data_augmentation = tf.keras.Sequential([\n",
        "  tf.keras.layers.RandomFlip('horizontal'),\n",
        "  tf.keras.layers.RandomRotation(0.2),\n",
        "])"
      ],
      "execution_count": 40,
      "outputs": []
    },
    {
      "cell_type": "code",
      "metadata": {
        "colab": {
          "base_uri": "https://localhost:8080/"
        },
        "id": "Lp90h1x8QnwF",
        "outputId": "ac68a274-29a7-42f7-8ca5-bee4ef04ffe5"
      },
      "source": [
        "preprocess_input = tf.keras.applications.vgg16.preprocess_input\n",
        "\n",
        "IMG_SHAPE = (image_height, image_width) + (3,)\n",
        "base_model = VGG16(input_shape=IMG_SHAPE,\n",
        "                   include_top=False,\n",
        "                   weights='imagenet')\n",
        "\n",
        "\n",
        "\n",
        "normalization_layer = layers.Rescaling(1./255)\n",
        "normalized_ds = train_ds.map(lambda x, y: (normalization_layer(x), y))\n",
        "image_batch, labels_batch = next(iter(normalized_ds))\n",
        "feature_batch = base_model(image_batch)\n",
        "\n",
        "base_model.trainable = False\n",
        "base_model.summary()"
      ],
      "execution_count": 41,
      "outputs": [
        {
          "output_type": "stream",
          "name": "stdout",
          "text": [
            "Model: \"vgg16\"\n",
            "_________________________________________________________________\n",
            " Layer (type)                Output Shape              Param #   \n",
            "=================================================================\n",
            " input_11 (InputLayer)       [(None, 224, 224, 3)]     0         \n",
            "                                                                 \n",
            " block1_conv1 (Conv2D)       (None, 224, 224, 64)      1792      \n",
            "                                                                 \n",
            " block1_conv2 (Conv2D)       (None, 224, 224, 64)      36928     \n",
            "                                                                 \n",
            " block1_pool (MaxPooling2D)  (None, 112, 112, 64)      0         \n",
            "                                                                 \n",
            " block2_conv1 (Conv2D)       (None, 112, 112, 128)     73856     \n",
            "                                                                 \n",
            " block2_conv2 (Conv2D)       (None, 112, 112, 128)     147584    \n",
            "                                                                 \n",
            " block2_pool (MaxPooling2D)  (None, 56, 56, 128)       0         \n",
            "                                                                 \n",
            " block3_conv1 (Conv2D)       (None, 56, 56, 256)       295168    \n",
            "                                                                 \n",
            " block3_conv2 (Conv2D)       (None, 56, 56, 256)       590080    \n",
            "                                                                 \n",
            " block3_conv3 (Conv2D)       (None, 56, 56, 256)       590080    \n",
            "                                                                 \n",
            " block3_pool (MaxPooling2D)  (None, 28, 28, 256)       0         \n",
            "                                                                 \n",
            " block4_conv1 (Conv2D)       (None, 28, 28, 512)       1180160   \n",
            "                                                                 \n",
            " block4_conv2 (Conv2D)       (None, 28, 28, 512)       2359808   \n",
            "                                                                 \n",
            " block4_conv3 (Conv2D)       (None, 28, 28, 512)       2359808   \n",
            "                                                                 \n",
            " block4_pool (MaxPooling2D)  (None, 14, 14, 512)       0         \n",
            "                                                                 \n",
            " block5_conv1 (Conv2D)       (None, 14, 14, 512)       2359808   \n",
            "                                                                 \n",
            " block5_conv2 (Conv2D)       (None, 14, 14, 512)       2359808   \n",
            "                                                                 \n",
            " block5_conv3 (Conv2D)       (None, 14, 14, 512)       2359808   \n",
            "                                                                 \n",
            " block5_pool (MaxPooling2D)  (None, 7, 7, 512)         0         \n",
            "                                                                 \n",
            "=================================================================\n",
            "Total params: 14,714,688\n",
            "Trainable params: 0\n",
            "Non-trainable params: 14,714,688\n",
            "_________________________________________________________________\n"
          ]
        }
      ]
    },
    {
      "cell_type": "code",
      "metadata": {
        "id": "vk_SaiACDmEO"
      },
      "source": [
        "global_average_layer = tf.keras.layers.GlobalAveragePooling2D()\n",
        "feature_batch_average = global_average_layer(feature_batch)\n",
        "\n",
        "prediction_layer = tf.keras.layers.Dense(1)\n",
        "prediction_batch = prediction_layer(feature_batch_average)"
      ],
      "execution_count": 42,
      "outputs": []
    },
    {
      "cell_type": "code",
      "metadata": {
        "id": "CPPyPOjTD3re"
      },
      "source": [
        "inputs = tf.keras.Input(shape=IMG_SHAPE)\n",
        "x = data_augmentation(inputs)\n",
        "x = preprocess_input(x)\n",
        "x = base_model(x, training=False)\n",
        "x = global_average_layer(x)\n",
        "outputs = layers.Dense(1, activation='linear')(x)\n",
        "\n",
        "model = tf.keras.Model(inputs, outputs)"
      ],
      "execution_count": 43,
      "outputs": []
    },
    {
      "cell_type": "code",
      "metadata": {
        "colab": {
          "base_uri": "https://localhost:8080/"
        },
        "id": "VM1NwNXFOM-c",
        "outputId": "1070b810-e497-490a-aa75-1c800e21fb07"
      },
      "source": [
        "base_learning_rate = 0.0001\n",
        "model.compile(optimizer = tf.keras.optimizers.RMSprop(lr=base_learning_rate),\n",
        "              loss = 'mse',\n",
        "              metrics = ['mae'])\n",
        "\n",
        "model.summary()"
      ],
      "execution_count": 44,
      "outputs": [
        {
          "output_type": "stream",
          "name": "stdout",
          "text": [
            "Model: \"model_5\"\n",
            "_________________________________________________________________\n",
            " Layer (type)                Output Shape              Param #   \n",
            "=================================================================\n",
            " input_12 (InputLayer)       [(None, 224, 224, 3)]     0         \n",
            "                                                                 \n",
            " sequential_3 (Sequential)   (None, 224, 224, 3)       0         \n",
            "                                                                 \n",
            " tf.__operators__.getitem_5   (None, 224, 224, 3)      0         \n",
            " (SlicingOpLambda)                                               \n",
            "                                                                 \n",
            " tf.nn.bias_add_5 (TFOpLambd  (None, 224, 224, 3)      0         \n",
            " a)                                                              \n",
            "                                                                 \n",
            " vgg16 (Functional)          (None, 7, 7, 512)         14714688  \n",
            "                                                                 \n",
            " global_average_pooling2d_5   (None, 512)              0         \n",
            " (GlobalAveragePooling2D)                                        \n",
            "                                                                 \n",
            " dense_11 (Dense)            (None, 1)                 513       \n",
            "                                                                 \n",
            "=================================================================\n",
            "Total params: 14,715,201\n",
            "Trainable params: 513\n",
            "Non-trainable params: 14,714,688\n",
            "_________________________________________________________________\n"
          ]
        },
        {
          "output_type": "stream",
          "name": "stderr",
          "text": [
            "/usr/local/lib/python3.7/dist-packages/keras/optimizer_v2/rmsprop.py:130: UserWarning: The `lr` argument is deprecated, use `learning_rate` instead.\n",
            "  super(RMSprop, self).__init__(name, **kwargs)\n"
          ]
        }
      ]
    },
    {
      "cell_type": "code",
      "metadata": {
        "colab": {
          "base_uri": "https://localhost:8080/"
        },
        "id": "soC6svjw5kCS",
        "outputId": "f615e779-9f82-4f1a-d3a3-0d08eecb99ce"
      },
      "source": [
        "initial_epochs = 10\n",
        "\n",
        "history = model.fit_generator(train_ds,\n",
        "                              epochs=initial_epochs,\n",
        "                              validation_data=val_ds)"
      ],
      "execution_count": 45,
      "outputs": [
        {
          "output_type": "stream",
          "name": "stderr",
          "text": [
            "/usr/local/lib/python3.7/dist-packages/ipykernel_launcher.py:5: UserWarning: `Model.fit_generator` is deprecated and will be removed in a future version. Please use `Model.fit`, which supports generators.\n",
            "  \"\"\"\n"
          ]
        },
        {
          "output_type": "stream",
          "name": "stdout",
          "text": [
            "Epoch 1/10\n",
            "26/26 [==============================] - 10s 323ms/step - loss: 7.6840 - mae: 2.2100 - val_loss: 7.3385 - val_mae: 2.1737\n",
            "Epoch 2/10\n",
            "26/26 [==============================] - 9s 313ms/step - loss: 6.0820 - mae: 1.9387 - val_loss: 6.1938 - val_mae: 1.9955\n",
            "Epoch 3/10\n",
            "26/26 [==============================] - 9s 315ms/step - loss: 5.5114 - mae: 1.8623 - val_loss: 5.7905 - val_mae: 1.9302\n",
            "Epoch 4/10\n",
            "26/26 [==============================] - 9s 312ms/step - loss: 5.9413 - mae: 1.8967 - val_loss: 5.2201 - val_mae: 1.8248\n",
            "Epoch 5/10\n",
            "26/26 [==============================] - 9s 315ms/step - loss: 4.6769 - mae: 1.6463 - val_loss: 4.9392 - val_mae: 1.7715\n",
            "Epoch 6/10\n",
            "26/26 [==============================] - 9s 311ms/step - loss: 4.8603 - mae: 1.7112 - val_loss: 4.7813 - val_mae: 1.7422\n",
            "Epoch 7/10\n",
            "26/26 [==============================] - 9s 314ms/step - loss: 4.7128 - mae: 1.6804 - val_loss: 4.5145 - val_mae: 1.6826\n",
            "Epoch 8/10\n",
            "26/26 [==============================] - 9s 314ms/step - loss: 4.3884 - mae: 1.6517 - val_loss: 4.3604 - val_mae: 1.6518\n",
            "Epoch 9/10\n",
            "26/26 [==============================] - 9s 313ms/step - loss: 4.0925 - mae: 1.5829 - val_loss: 4.1937 - val_mae: 1.6166\n",
            "Epoch 10/10\n",
            "26/26 [==============================] - 9s 314ms/step - loss: 4.1362 - mae: 1.5860 - val_loss: 3.9843 - val_mae: 1.5749\n"
          ]
        }
      ]
    },
    {
      "cell_type": "code",
      "metadata": {
        "colab": {
          "base_uri": "https://localhost:8080/",
          "height": 499
        },
        "id": "AbYFMSztGtf-",
        "outputId": "cd84fe1a-d7ea-49e8-a6d3-8a10e272dc40"
      },
      "source": [
        "mae = history.history['mae']\n",
        "val_mae = history.history['val_mae']\n",
        "\n",
        "loss = history.history['loss']\n",
        "val_loss = history.history['val_loss']\n",
        "\n",
        "plt.figure(figsize=(8, 8))\n",
        "plt.subplot(2, 1, 1)\n",
        "plt.plot(mae, label='Training MAE')\n",
        "plt.plot(val_mae, label='Validation MAE')\n",
        "plt.legend(loc='lower right')\n",
        "plt.ylabel('MAE')\n",
        "plt.title('Training and Validation MAE')\n",
        "\n",
        "plt.subplot(2, 1, 2)\n",
        "plt.plot(loss, label='Training Loss')\n",
        "plt.plot(val_loss, label='Validation Loss')\n",
        "plt.legend(loc='upper right')\n",
        "plt.ylabel('Cross Entropy')\n",
        "plt.title('Training and Validation Loss')\n",
        "plt.show()"
      ],
      "execution_count": 46,
      "outputs": [
        {
          "output_type": "display_data",
          "data": {
            "image/png": "[encoded data removed]",
            "text/plain": [
              "<Figure size 576x576 with 2 Axes>"
            ]
          },
          "metadata": {
            "needs_background": "light"
          }
        }
      ]
    },
    {
      "cell_type": "markdown",
      "metadata": {
        "id": "rGFbtr8yZB3m"
      },
      "source": [
        "# Model 4 (Random Rotation 0.5)"
      ]
    },
    {
      "cell_type": "code",
      "metadata": {
        "id": "kjcerFb6ZB3m"
      },
      "source": [
        "data_augmentation = tf.keras.Sequential([\n",
        "  tf.keras.layers.RandomFlip('horizontal'),\n",
        "  tf.keras.layers.RandomRotation(0.5),\n",
        "])"
      ],
      "execution_count": 47,
      "outputs": []
    },
    {
      "cell_type": "code",
      "metadata": {
        "colab": {
          "base_uri": "https://localhost:8080/"
        },
        "id": "4ZslwQbCZB3n",
        "outputId": "2ea601b6-58a5-4904-f188-621f6acdabd5"
      },
      "source": [
        "preprocess_input = tf.keras.applications.vgg16.preprocess_input\n",
        "\n",
        "IMG_SHAPE = (image_height, image_width) + (3,)\n",
        "base_model = VGG16(input_shape=IMG_SHAPE,\n",
        "                   include_top=False,\n",
        "                   weights='imagenet')\n",
        "\n",
        "\n",
        "\n",
        "normalization_layer = layers.Rescaling(1./255)\n",
        "normalized_ds = train_ds.map(lambda x, y: (normalization_layer(x), y))\n",
        "image_batch, labels_batch = next(iter(normalized_ds))\n",
        "feature_batch = base_model(image_batch)\n",
        "\n",
        "base_model.trainable = False\n",
        "base_model.summary()"
      ],
      "execution_count": 48,
      "outputs": [
        {
          "output_type": "stream",
          "name": "stdout",
          "text": [
            "Model: \"vgg16\"\n",
            "_________________________________________________________________\n",
            " Layer (type)                Output Shape              Param #   \n",
            "=================================================================\n",
            " input_13 (InputLayer)       [(None, 224, 224, 3)]     0         \n",
            "                                                                 \n",
            " block1_conv1 (Conv2D)       (None, 224, 224, 64)      1792      \n",
            "                                                                 \n",
            " block1_conv2 (Conv2D)       (None, 224, 224, 64)      36928     \n",
            "                                                                 \n",
            " block1_pool (MaxPooling2D)  (None, 112, 112, 64)      0         \n",
            "                                                                 \n",
            " block2_conv1 (Conv2D)       (None, 112, 112, 128)     73856     \n",
            "                                                                 \n",
            " block2_conv2 (Conv2D)       (None, 112, 112, 128)     147584    \n",
            "                                                                 \n",
            " block2_pool (MaxPooling2D)  (None, 56, 56, 128)       0         \n",
            "                                                                 \n",
            " block3_conv1 (Conv2D)       (None, 56, 56, 256)       295168    \n",
            "                                                                 \n",
            " block3_conv2 (Conv2D)       (None, 56, 56, 256)       590080    \n",
            "                                                                 \n",
            " block3_conv3 (Conv2D)       (None, 56, 56, 256)       590080    \n",
            "                                                                 \n",
            " block3_pool (MaxPooling2D)  (None, 28, 28, 256)       0         \n",
            "                                                                 \n",
            " block4_conv1 (Conv2D)       (None, 28, 28, 512)       1180160   \n",
            "                                                                 \n",
            " block4_conv2 (Conv2D)       (None, 28, 28, 512)       2359808   \n",
            "                                                                 \n",
            " block4_conv3 (Conv2D)       (None, 28, 28, 512)       2359808   \n",
            "                                                                 \n",
            " block4_pool (MaxPooling2D)  (None, 14, 14, 512)       0         \n",
            "                                                                 \n",
            " block5_conv1 (Conv2D)       (None, 14, 14, 512)       2359808   \n",
            "                                                                 \n",
            " block5_conv2 (Conv2D)       (None, 14, 14, 512)       2359808   \n",
            "                                                                 \n",
            " block5_conv3 (Conv2D)       (None, 14, 14, 512)       2359808   \n",
            "                                                                 \n",
            " block5_pool (MaxPooling2D)  (None, 7, 7, 512)         0         \n",
            "                                                                 \n",
            "=================================================================\n",
            "Total params: 14,714,688\n",
            "Trainable params: 0\n",
            "Non-trainable params: 14,714,688\n",
            "_________________________________________________________________\n"
          ]
        }
      ]
    },
    {
      "cell_type": "code",
      "metadata": {
        "id": "pogjR-c9ZB3n"
      },
      "source": [
        "global_average_layer = tf.keras.layers.GlobalAveragePooling2D()\n",
        "feature_batch_average = global_average_layer(feature_batch)\n",
        "\n",
        "prediction_layer = tf.keras.layers.Dense(1)\n",
        "prediction_batch = prediction_layer(feature_batch_average)"
      ],
      "execution_count": 49,
      "outputs": []
    },
    {
      "cell_type": "code",
      "metadata": {
        "id": "nUHpoaYTZB3n"
      },
      "source": [
        "inputs = tf.keras.Input(shape=IMG_SHAPE)\n",
        "x = data_augmentation(inputs)\n",
        "x = preprocess_input(x)\n",
        "x = base_model(x, training=False)\n",
        "x = global_average_layer(x)\n",
        "outputs = layers.Dense(1, activation='linear')(x)\n",
        "\n",
        "model = tf.keras.Model(inputs, outputs)"
      ],
      "execution_count": 50,
      "outputs": []
    },
    {
      "cell_type": "code",
      "metadata": {
        "colab": {
          "base_uri": "https://localhost:8080/"
        },
        "id": "RJe7ZDqYZB3o",
        "outputId": "4fe71241-09be-4551-f8e9-42b30e68c138"
      },
      "source": [
        "base_learning_rate = 0.0001\n",
        "model.compile(optimizer = tf.keras.optimizers.RMSprop(lr=base_learning_rate),\n",
        "              loss = 'mse',\n",
        "              metrics = ['mae'])\n",
        "\n",
        "model.summary()"
      ],
      "execution_count": 51,
      "outputs": [
        {
          "output_type": "stream",
          "name": "stdout",
          "text": [
            "Model: \"model_6\"\n",
            "_________________________________________________________________\n",
            " Layer (type)                Output Shape              Param #   \n",
            "=================================================================\n",
            " input_14 (InputLayer)       [(None, 224, 224, 3)]     0         \n",
            "                                                                 \n",
            " sequential_4 (Sequential)   (None, 224, 224, 3)       0         \n",
            "                                                                 \n",
            " tf.__operators__.getitem_6   (None, 224, 224, 3)      0         \n",
            " (SlicingOpLambda)                                               \n",
            "                                                                 \n",
            " tf.nn.bias_add_6 (TFOpLambd  (None, 224, 224, 3)      0         \n",
            " a)                                                              \n",
            "                                                                 \n",
            " vgg16 (Functional)          (None, 7, 7, 512)         14714688  \n",
            "                                                                 \n",
            " global_average_pooling2d_6   (None, 512)              0         \n",
            " (GlobalAveragePooling2D)                                        \n",
            "                                                                 \n",
            " dense_13 (Dense)            (None, 1)                 513       \n",
            "                                                                 \n",
            "=================================================================\n",
            "Total params: 14,715,201\n",
            "Trainable params: 513\n",
            "Non-trainable params: 14,714,688\n",
            "_________________________________________________________________\n"
          ]
        },
        {
          "output_type": "stream",
          "name": "stderr",
          "text": [
            "/usr/local/lib/python3.7/dist-packages/keras/optimizer_v2/rmsprop.py:130: UserWarning: The `lr` argument is deprecated, use `learning_rate` instead.\n",
            "  super(RMSprop, self).__init__(name, **kwargs)\n"
          ]
        }
      ]
    },
    {
      "cell_type": "code",
      "metadata": {
        "colab": {
          "base_uri": "https://localhost:8080/"
        },
        "id": "WXH6LAy5ZB3o",
        "outputId": "efc05351-46a1-4925-d1cd-358524fd0710"
      },
      "source": [
        "initial_epochs = 10\n",
        "\n",
        "history = model.fit_generator(train_ds,\n",
        "                              epochs=initial_epochs,\n",
        "                              validation_data=val_ds)"
      ],
      "execution_count": 52,
      "outputs": [
        {
          "output_type": "stream",
          "name": "stderr",
          "text": [
            "/usr/local/lib/python3.7/dist-packages/ipykernel_launcher.py:5: UserWarning: `Model.fit_generator` is deprecated and will be removed in a future version. Please use `Model.fit`, which supports generators.\n",
            "  \"\"\"\n"
          ]
        },
        {
          "output_type": "stream",
          "name": "stdout",
          "text": [
            "Epoch 1/10\n",
            "26/26 [==============================] - 10s 321ms/step - loss: 34.3474 - mae: 5.1664 - val_loss: 31.5747 - val_mae: 4.9437\n",
            "Epoch 2/10\n",
            "26/26 [==============================] - 8s 311ms/step - loss: 19.1390 - mae: 3.6882 - val_loss: 20.9566 - val_mae: 3.8676\n",
            "Epoch 3/10\n",
            "26/26 [==============================] - 9s 312ms/step - loss: 12.2994 - mae: 2.8259 - val_loss: 13.7733 - val_mae: 3.0189\n",
            "Epoch 4/10\n",
            "26/26 [==============================] - 8s 311ms/step - loss: 8.5665 - mae: 2.3284 - val_loss: 10.1008 - val_mae: 2.5428\n",
            "Epoch 5/10\n",
            "26/26 [==============================] - 8s 310ms/step - loss: 7.2618 - mae: 2.1191 - val_loss: 8.6132 - val_mae: 2.3240\n",
            "Epoch 6/10\n",
            "26/26 [==============================] - 8s 311ms/step - loss: 6.6984 - mae: 2.0052 - val_loss: 7.8139 - val_mae: 2.1954\n",
            "Epoch 7/10\n",
            "26/26 [==============================] - 9s 312ms/step - loss: 6.6810 - mae: 2.0308 - val_loss: 6.8419 - val_mae: 2.0420\n",
            "Epoch 8/10\n",
            "26/26 [==============================] - 8s 310ms/step - loss: 6.0001 - mae: 1.8914 - val_loss: 6.4231 - val_mae: 1.9660\n",
            "Epoch 9/10\n",
            "26/26 [==============================] - 9s 312ms/step - loss: 5.4937 - mae: 1.8715 - val_loss: 5.9557 - val_mae: 1.8872\n",
            "Epoch 10/10\n",
            "26/26 [==============================] - 8s 309ms/step - loss: 5.3738 - mae: 1.8267 - val_loss: 5.6642 - val_mae: 1.8290\n"
          ]
        }
      ]
    },
    {
      "cell_type": "code",
      "metadata": {
        "colab": {
          "base_uri": "https://localhost:8080/",
          "height": 499
        },
        "id": "bu9574hSZB3o",
        "outputId": "5a2d73e5-0284-415a-e3ee-84c6afc22c99"
      },
      "source": [
        "mae = history.history['mae']\n",
        "val_mae = history.history['val_mae']\n",
        "\n",
        "loss = history.history['loss']\n",
        "val_loss = history.history['val_loss']\n",
        "\n",
        "plt.figure(figsize=(8, 8))\n",
        "plt.subplot(2, 1, 1)\n",
        "plt.plot(mae, label='Training MAE')\n",
        "plt.plot(val_mae, label='Validation MAE')\n",
        "plt.legend(loc='lower right')\n",
        "plt.ylabel('MAE')\n",
        "plt.title('Training and Validation MAE')\n",
        "\n",
        "plt.subplot(2, 1, 2)\n",
        "plt.plot(loss, label='Training Loss')\n",
        "plt.plot(val_loss, label='Validation Loss')\n",
        "plt.legend(loc='upper right')\n",
        "plt.ylabel('Cross Entropy')\n",
        "plt.title('Training and Validation Loss')\n",
        "plt.show()"
      ],
      "execution_count": 53,
      "outputs": [
        {
          "output_type": "display_data",
          "data": {
            "image/png": "[encoded data removed]",
            "text/plain": [
              "<Figure size 576x576 with 2 Axes>"
            ]
          },
          "metadata": {
            "needs_background": "light"
          }
        }
      ]
    }
  ]
}