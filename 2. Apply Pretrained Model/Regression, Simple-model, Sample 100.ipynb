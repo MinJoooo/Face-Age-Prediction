{
 "cells": [
  {
   "cell_type": "code",
   "execution_count": 1,
   "metadata": {},
   "outputs": [],
   "source": [
    "import numpy as np\n",
    "import os\n",
    "import PIL\n",
    "from PIL import Image\n",
    "import tensorflow as tf\n",
    "from tqdm import tqdm\n",
    "import matplotlib.pyplot as plt"
   ]
  },
  {
   "cell_type": "code",
   "execution_count": 2,
   "metadata": {},
   "outputs": [],
   "source": [
    "root_dir = 'C:/Users/frank/data_analysis/age-classification'\n",
    "path = root_dir + '/archive/train/' #이미지 경로\n",
    "image_folders = os.listdir(path)\n",
    "image_folders.pop(0)\n",
    "image_paths = [path+image_folder for image_folder in image_folders]\n",
    "modified_path = root_dir + '/archive_sample100/train/' #샘플링된 이미지가 저장될 경로\n",
    "modified_image_paths = [modified_path+image_folder for image_folder in image_folders]"
   ]
  },
  {
   "cell_type": "code",
   "execution_count": 3,
   "metadata": {},
   "outputs": [],
   "source": [
    "# modified_path : archive_sample100. 100개 데이터만 샘플링한 것\n",
    "# 데이터를 바꾸고 싶으면 data_dir에 들어가는 path를 다른 것으로 바꿔주면 됨\n",
    "data_dir = modified_path\n",
    "img_height, img_width = 224, 224\n",
    "batch_size = 32"
   ]
  },
  {
   "cell_type": "code",
   "execution_count": 4,
   "metadata": {},
   "outputs": [
    {
     "name": "stdout",
     "output_type": "stream",
     "text": [
      "Found 4983 files belonging to 53 classes.\n",
      "Using 3987 files for training.\n",
      "Found 4983 files belonging to 53 classes.\n",
      "Using 996 files for validation.\n"
     ]
    }
   ],
   "source": [
    "train_ds = tf.keras.preprocessing.image_dataset_from_directory(\n",
    "    data_dir,\n",
    "    validation_split=0.2,\n",
    "    subset=\"training\",\n",
    "    seed=123,\n",
    "    image_size=(img_height, img_width),\n",
    "    batch_size=batch_size)\n",
    "\n",
    "val_ds = tf.keras.preprocessing.image_dataset_from_directory(\n",
    "    data_dir,\n",
    "    validation_split=0.2,\n",
    "    subset=\"validation\",\n",
    "    seed=123,\n",
    "    image_size=(img_height, img_width),\n",
    "    batch_size=batch_size)"
   ]
  },
  {
   "cell_type": "code",
   "execution_count": 44,
   "metadata": {},
   "outputs": [],
   "source": [
    "from tensorflow.keras import models\n",
    "from tensorflow.keras import layers\n",
    "from tensorflow.keras import optimizers, losses, metrics\n",
    "\n",
    "IMG_SHAPE = (img_height, img_width) + (3,)\n",
    "\n",
    "inputs = tf.keras.Input(shape=IMG_SHAPE)\n",
    "x = tf.keras.layers.experimental.preprocessing.Rescaling(1./255)(inputs)\n",
    "\n",
    "x = layers.Conv2D(32, (3, 3), activation='relu')(x)\n",
    "x = layers.MaxPooling2D((2, 2))(x)\n",
    "\n",
    "x = layers.Conv2D(64, (3, 3), activation='relu')(x)\n",
    "x = layers.MaxPooling2D((2, 2))(x)\n",
    "\n",
    "x = layers.Conv2D(128, (3, 3), activation='relu')(x)\n",
    "x = layers.MaxPooling2D((2, 2))(x)\n",
    "\n",
    "x = layers.Flatten()(x)\n",
    "x = layers.Dropout(0.2)(x)\n",
    "\n",
    "x = layers.Dense(128, activation='relu')(x)\n",
    "outputs = layers.Dense(1, activation='linear')(x)\n",
    "\n",
    "simple_model = tf.keras.Model(inputs, outputs)\n",
    "\n",
    "\n",
    "base_learning_rate = 0.0001\n",
    "\n",
    "simple_model.compile(optimizer=tf.keras.optimizers.SGD(learning_rate=base_learning_rate),\n",
    "              loss='mse',\n",
    "              metrics=['mae'])"
   ]
  },
  {
   "cell_type": "code",
   "execution_count": 45,
   "metadata": {},
   "outputs": [
    {
     "name": "stdout",
     "output_type": "stream",
     "text": [
      "Model: \"model_4\"\n",
      "_________________________________________________________________\n",
      "Layer (type)                 Output Shape              Param #   \n",
      "=================================================================\n",
      "input_5 (InputLayer)         [(None, 224, 224, 3)]     0         \n",
      "_________________________________________________________________\n",
      "rescaling_6 (Rescaling)      (None, 224, 224, 3)       0         \n",
      "_________________________________________________________________\n",
      "conv2d_18 (Conv2D)           (None, 222, 222, 32)      896       \n",
      "_________________________________________________________________\n",
      "max_pooling2d_18 (MaxPooling (None, 111, 111, 32)      0         \n",
      "_________________________________________________________________\n",
      "conv2d_19 (Conv2D)           (None, 109, 109, 64)      18496     \n",
      "_________________________________________________________________\n",
      "max_pooling2d_19 (MaxPooling (None, 54, 54, 64)        0         \n",
      "_________________________________________________________________\n",
      "conv2d_20 (Conv2D)           (None, 52, 52, 128)       73856     \n",
      "_________________________________________________________________\n",
      "max_pooling2d_20 (MaxPooling (None, 26, 26, 128)       0         \n",
      "_________________________________________________________________\n",
      "flatten_6 (Flatten)          (None, 86528)             0         \n",
      "_________________________________________________________________\n",
      "dropout_6 (Dropout)          (None, 86528)             0         \n",
      "_________________________________________________________________\n",
      "dense_12 (Dense)             (None, 128)               11075712  \n",
      "_________________________________________________________________\n",
      "dense_13 (Dense)             (None, 1)                 129       \n",
      "=================================================================\n",
      "Total params: 11,169,089\n",
      "Trainable params: 11,169,089\n",
      "Non-trainable params: 0\n",
      "_________________________________________________________________\n"
     ]
    }
   ],
   "source": [
    "simple_model.summary()"
   ]
  },
  {
   "cell_type": "code",
   "execution_count": 47,
   "metadata": {},
   "outputs": [
    {
     "name": "stdout",
     "output_type": "stream",
     "text": [
      "Epoch 1/5\n",
      "125/125 [==============================] - ETA: 3:03 - loss: 855.7908 - mae: 25.25 - ETA: 2:20 - loss: 829.2849 - mae: 24.76 - ETA: 2:16 - loss: 888.5833 - mae: 26.13 - ETA: 2:28 - loss: 746.0478 - mae: 23.28 - ETA: 2:34 - loss: 660.0356 - mae: 21.80 - ETA: 2:37 - loss: 614.8427 - mae: 21.04 - ETA: 2:39 - loss: 615.9235 - mae: 21.08 - ETA: 2:39 - loss: 568.6607 - mae: 19.98 - ETA: 2:39 - loss: 533.7103 - mae: 19.31 - ETA: 2:38 - loss: 504.3042 - mae: 18.67 - ETA: 2:37 - loss: 471.9619 - mae: 17.94 - ETA: 2:38 - loss: 453.9029 - mae: 17.55 - ETA: 2:43 - loss: 446.9936 - mae: 17.40 - ETA: 2:45 - loss: 453.5578 - mae: 17.44 - ETA: 2:46 - loss: 441.7879 - mae: 17.17 - ETA: 2:46 - loss: 425.0840 - mae: 16.82 - ETA: 2:45 - loss: 419.3750 - mae: 16.75 - ETA: 2:46 - loss: 414.0065 - mae: 16.67 - ETA: 2:46 - loss: 410.7302 - mae: 16.58 - ETA: 2:46 - loss: 402.0752 - mae: 16.42 - ETA: 2:46 - loss: 397.3429 - mae: 16.33 - ETA: 2:46 - loss: 409.4371 - mae: 16.56 - ETA: 2:45 - loss: 433.5805 - mae: 17.06 - ETA: 2:44 - loss: 448.2005 - mae: 17.35 - ETA: 2:44 - loss: 453.4313 - mae: 17.45 - ETA: 2:44 - loss: 458.5505 - mae: 17.54 - ETA: 2:42 - loss: 465.5195 - mae: 17.67 - ETA: 2:40 - loss: 474.1243 - mae: 17.85 - ETA: 2:39 - loss: 472.7180 - mae: 17.80 - ETA: 2:37 - loss: 463.6699 - mae: 17.61 - ETA: 2:35 - loss: 455.8483 - mae: 17.45 - ETA: 2:33 - loss: 451.1385 - mae: 17.36 - ETA: 2:31 - loss: 448.0481 - mae: 17.31 - ETA: 2:29 - loss: 449.5832 - mae: 17.34 - ETA: 2:28 - loss: 441.3793 - mae: 17.16 - ETA: 2:26 - loss: 434.7248 - mae: 17.02 - ETA: 2:25 - loss: 429.5388 - mae: 16.92 - ETA: 2:24 - loss: 425.5805 - mae: 16.83 - ETA: 2:23 - loss: 421.9174 - mae: 16.75 - ETA: 2:22 - loss: 416.4230 - mae: 16.63 - ETA: 2:21 - loss: 413.6659 - mae: 16.59 - ETA: 2:19 - loss: 410.6222 - mae: 16.54 - ETA: 2:18 - loss: 406.3918 - mae: 16.47 - ETA: 2:16 - loss: 404.9946 - mae: 16.46 - ETA: 2:15 - loss: 407.8511 - mae: 16.51 - ETA: 2:13 - loss: 414.9064 - mae: 16.63 - ETA: 2:11 - loss: 419.9046 - mae: 16.73 - ETA: 2:09 - loss: 422.2235 - mae: 16.76 - ETA: 2:07 - loss: 422.1821 - mae: 16.75 - ETA: 2:06 - loss: 417.5889 - mae: 16.65 - ETA: 2:04 - loss: 413.9973 - mae: 16.58 - ETA: 2:02 - loss: 410.1894 - mae: 16.51 - ETA: 2:00 - loss: 408.4801 - mae: 16.48 - ETA: 1:58 - loss: 404.4667 - mae: 16.40 - ETA: 1:56 - loss: 400.7054 - mae: 16.32 - ETA: 1:54 - loss: 397.1469 - mae: 16.24 - ETA: 1:52 - loss: 393.5410 - mae: 16.15 - ETA: 1:50 - loss: 390.6479 - mae: 16.09 - ETA: 1:49 - loss: 387.0354 - mae: 16.01 - ETA: 1:47 - loss: 383.8360 - mae: 15.94 - ETA: 1:45 - loss: 380.7973 - mae: 15.87 - ETA: 1:43 - loss: 378.3169 - mae: 15.83 - ETA: 1:41 - loss: 375.6053 - mae: 15.77 - ETA: 1:39 - loss: 372.7047 - mae: 15.71 - ETA: 1:37 - loss: 369.5389 - mae: 15.64 - ETA: 1:36 - loss: 367.3569 - mae: 15.60 - ETA: 1:34 - loss: 365.4892 - mae: 15.55 - ETA: 1:32 - loss: 364.5980 - mae: 15.54 - ETA: 1:30 - loss: 363.6360 - mae: 15.53 - ETA: 1:29 - loss: 361.1669 - mae: 15.48 - ETA: 1:27 - loss: 360.0371 - mae: 15.47 - ETA: 1:25 - loss: 357.6908 - mae: 15.42 - ETA: 1:23 - loss: 356.7860 - mae: 15.40 - ETA: 1:22 - loss: 357.1810 - mae: 15.43 - ETA: 1:20 - loss: 359.9534 - mae: 15.47 - ETA: 1:19 - loss: 360.4778 - mae: 15.48 - ETA: 1:17 - loss: 358.7663 - mae: 15.45 - ETA: 1:15 - loss: 357.1604 - mae: 15.42 - ETA: 1:14 - loss: 357.0358 - mae: 15.42 - ETA: 1:12 - loss: 355.2531 - mae: 15.38 - ETA: 1:11 - loss: 353.3996 - mae: 15.34 - ETA: 1:09 - loss: 351.6030 - mae: 15.30 - ETA: 1:08 - loss: 349.9287 - mae: 15.26 - ETA: 1:06 - loss: 347.9523 - mae: 15.23 - ETA: 1:05 - loss: 346.1204 - mae: 15.19 - ETA: 1:04 - loss: 346.2546 - mae: 15.21 - ETA: 1:02 - loss: 348.1328 - mae: 15.25 - ETA: 1:01 - loss: 351.2500 - mae: 15.32 - ETA: 1:00 - loss: 354.7710 - mae: 15.39 - ETA: 58s - loss: 354.1582 - mae: 15.3747 - ETA: 57s - loss: 355.9160 - mae: 15.414 - ETA: 55s - loss: 355.1851 - mae: 15.398 - ETA: 53s - loss: 354.2883 - mae: 15.396 - ETA: 52s - loss: 353.3934 - mae: 15.383 - ETA: 50s - loss: 351.5425 - mae: 15.339 - ETA: 48s - loss: 349.7232 - mae: 15.302 - ETA: 47s - loss: 348.5074 - mae: 15.285 - ETA: 45s - loss: 347.0620 - mae: 15.257 - ETA: 43s - loss: 346.1657 - mae: 15.241 - ETA: 42s - loss: 344.6865 - mae: 15.208 - ETA: 40s - loss: 343.2303 - mae: 15.178 - ETA: 38s - loss: 342.2090 - mae: 15.160 - ETA: 36s - loss: 340.9142 - mae: 15.136 - ETA: 35s - loss: 339.9714 - mae: 15.118 - ETA: 33s - loss: 338.1862 - mae: 15.073 - ETA: 31s - loss: 336.6991 - mae: 15.040 - ETA: 30s - loss: 335.8521 - mae: 15.020 - ETA: 28s - loss: 336.0094 - mae: 15.022 - ETA: 26s - loss: 334.7310 - mae: 14.989 - ETA: 24s - loss: 334.3092 - mae: 14.981 - ETA: 23s - loss: 334.2760 - mae: 14.978 - ETA: 21s - loss: 332.8411 - mae: 14.946 - ETA: 19s - loss: 331.8560 - mae: 14.925 - ETA: 18s - loss: 330.6904 - mae: 14.903 - ETA: 16s - loss: 330.0138 - mae: 14.897 - ETA: 14s - loss: 329.0511 - mae: 14.877 - ETA: 13s - loss: 327.4600 - mae: 14.839 - ETA: 11s - loss: 326.7406 - mae: 14.820 - ETA: 9s - loss: 325.9250 - mae: 14.800 - ETA: 8s - loss: 325.7615 - mae: 14.80 - ETA: 6s - loss: 325.2532 - mae: 14.79 - ETA: 4s - loss: 324.2653 - mae: 14.77 - ETA: 3s - loss: 323.4805 - mae: 14.75 - ETA: 1s - loss: 323.3710 - mae: 14.75 - ETA: 0s - loss: 322.6862 - mae: 14.73 - 226s 2s/step - loss: 322.6862 - mae: 14.7371 - val_loss: 265.9074 - val_mae: 13.5813\n",
      "Epoch 2/5\n"
     ]
    },
    {
     "name": "stdout",
     "output_type": "stream",
     "text": [
      "125/125 [==============================] - ETA: 6:24 - loss: 295.2692 - mae: 13.57 - ETA: 5:45 - loss: 251.5169 - mae: 12.62 - ETA: 5:22 - loss: 242.1893 - mae: 12.61 - ETA: 5:07 - loss: 237.7039 - mae: 12.57 - ETA: 4:56 - loss: 233.6445 - mae: 12.61 - ETA: 4:45 - loss: 230.8516 - mae: 12.69 - ETA: 4:36 - loss: 228.2603 - mae: 12.65 - ETA: 4:28 - loss: 224.9008 - mae: 12.64 - ETA: 4:19 - loss: 219.0407 - mae: 12.53 - ETA: 4:11 - loss: 218.1691 - mae: 12.46 - ETA: 4:04 - loss: 215.2718 - mae: 12.42 - ETA: 3:58 - loss: 217.4868 - mae: 12.57 - ETA: 3:52 - loss: 215.2677 - mae: 12.50 - ETA: 3:46 - loss: 216.9159 - mae: 12.55 - ETA: 3:41 - loss: 218.2558 - mae: 12.61 - ETA: 3:36 - loss: 219.8855 - mae: 12.68 - ETA: 3:32 - loss: 217.3068 - mae: 12.59 - ETA: 3:28 - loss: 216.3035 - mae: 12.58 - ETA: 3:25 - loss: 216.0533 - mae: 12.60 - ETA: 3:22 - loss: 217.1602 - mae: 12.63 - ETA: 3:19 - loss: 218.0125 - mae: 12.68 - ETA: 3:17 - loss: 224.2335 - mae: 12.84 - ETA: 3:13 - loss: 225.1381 - mae: 12.85 - ETA: 3:10 - loss: 224.7738 - mae: 12.85 - ETA: 3:07 - loss: 223.0444 - mae: 12.78 - ETA: 3:04 - loss: 220.3881 - mae: 12.70 - ETA: 3:01 - loss: 219.6263 - mae: 12.68 - ETA: 2:58 - loss: 220.6957 - mae: 12.71 - ETA: 2:55 - loss: 223.2195 - mae: 12.76 - ETA: 2:53 - loss: 221.5542 - mae: 12.71 - ETA: 2:50 - loss: 222.1092 - mae: 12.73 - ETA: 2:48 - loss: 221.6378 - mae: 12.70 - ETA: 2:45 - loss: 220.9586 - mae: 12.69 - ETA: 2:42 - loss: 222.5928 - mae: 12.76 - ETA: 2:40 - loss: 221.4833 - mae: 12.71 - ETA: 2:38 - loss: 220.1611 - mae: 12.68 - ETA: 2:35 - loss: 218.3085 - mae: 12.63 - ETA: 2:34 - loss: 217.8306 - mae: 12.61 - ETA: 2:33 - loss: 217.1552 - mae: 12.58 - ETA: 2:33 - loss: 217.5769 - mae: 12.59 - ETA: 2:33 - loss: 218.0723 - mae: 12.62 - ETA: 2:32 - loss: 217.5417 - mae: 12.61 - ETA: 2:32 - loss: 216.0138 - mae: 12.57 - ETA: 2:31 - loss: 216.2930 - mae: 12.58 - ETA: 2:30 - loss: 215.6314 - mae: 12.56 - ETA: 2:29 - loss: 214.8584 - mae: 12.52 - ETA: 2:28 - loss: 213.8802 - mae: 12.50 - ETA: 2:27 - loss: 214.3008 - mae: 12.52 - ETA: 2:26 - loss: 213.8326 - mae: 12.51 - ETA: 2:24 - loss: 214.5391 - mae: 12.53 - ETA: 2:22 - loss: 214.9907 - mae: 12.54 - ETA: 2:20 - loss: 215.3308 - mae: 12.56 - ETA: 2:18 - loss: 216.2035 - mae: 12.58 - ETA: 2:16 - loss: 216.1749 - mae: 12.58 - ETA: 2:14 - loss: 214.9626 - mae: 12.55 - ETA: 2:12 - loss: 214.6812 - mae: 12.54 - ETA: 2:09 - loss: 214.8785 - mae: 12.54 - ETA: 2:07 - loss: 214.3234 - mae: 12.51 - ETA: 2:05 - loss: 214.8918 - mae: 12.53 - ETA: 2:02 - loss: 214.6152 - mae: 12.52 - ETA: 2:00 - loss: 214.0789 - mae: 12.51 - ETA: 1:58 - loss: 213.8939 - mae: 12.50 - ETA: 1:55 - loss: 213.4511 - mae: 12.49 - ETA: 1:53 - loss: 213.8170 - mae: 12.49 - ETA: 1:51 - loss: 213.9285 - mae: 12.50 - ETA: 1:49 - loss: 213.6337 - mae: 12.50 - ETA: 1:46 - loss: 213.1519 - mae: 12.50 - ETA: 1:44 - loss: 212.8644 - mae: 12.49 - ETA: 1:42 - loss: 212.5660 - mae: 12.49 - ETA: 1:40 - loss: 212.2841 - mae: 12.47 - ETA: 1:38 - loss: 213.3139 - mae: 12.51 - ETA: 1:36 - loss: 213.6988 - mae: 12.52 - ETA: 1:33 - loss: 215.0766 - mae: 12.57 - ETA: 1:31 - loss: 215.8028 - mae: 12.59 - ETA: 1:29 - loss: 215.8800 - mae: 12.60 - ETA: 1:27 - loss: 216.5520 - mae: 12.61 - ETA: 1:25 - loss: 217.2283 - mae: 12.63 - ETA: 1:23 - loss: 216.3356 - mae: 12.60 - ETA: 1:21 - loss: 216.1652 - mae: 12.59 - ETA: 1:19 - loss: 215.8685 - mae: 12.58 - ETA: 1:17 - loss: 215.5652 - mae: 12.58 - ETA: 1:15 - loss: 215.3261 - mae: 12.58 - ETA: 1:13 - loss: 215.5125 - mae: 12.58 - ETA: 1:11 - loss: 215.1749 - mae: 12.58 - ETA: 1:10 - loss: 215.0178 - mae: 12.57 - ETA: 1:08 - loss: 215.5450 - mae: 12.59 - ETA: 1:06 - loss: 215.8552 - mae: 12.60 - ETA: 1:04 - loss: 217.0128 - mae: 12.63 - ETA: 1:02 - loss: 217.0131 - mae: 12.63 - ETA: 1:00 - loss: 217.2283 - mae: 12.64 - ETA: 58s - loss: 217.6410 - mae: 12.6600 - ETA: 57s - loss: 217.5841 - mae: 12.659 - ETA: 55s - loss: 217.3318 - mae: 12.650 - ETA: 53s - loss: 218.0895 - mae: 12.677 - ETA: 51s - loss: 218.3877 - mae: 12.687 - ETA: 50s - loss: 217.7465 - mae: 12.659 - ETA: 48s - loss: 217.8815 - mae: 12.669 - ETA: 46s - loss: 217.7453 - mae: 12.661 - ETA: 45s - loss: 218.0761 - mae: 12.669 - ETA: 43s - loss: 217.3223 - mae: 12.641 - ETA: 41s - loss: 217.6719 - mae: 12.657 - ETA: 40s - loss: 217.3290 - mae: 12.647 - ETA: 38s - loss: 217.1804 - mae: 12.648 - ETA: 36s - loss: 216.7594 - mae: 12.632 - ETA: 35s - loss: 216.9321 - mae: 12.638 - ETA: 33s - loss: 216.7439 - mae: 12.634 - ETA: 31s - loss: 216.7887 - mae: 12.639 - ETA: 30s - loss: 216.6145 - mae: 12.637 - ETA: 28s - loss: 216.7428 - mae: 12.642 - ETA: 26s - loss: 216.6094 - mae: 12.636 - ETA: 24s - loss: 216.1718 - mae: 12.623 - ETA: 22s - loss: 216.2461 - mae: 12.626 - ETA: 21s - loss: 216.5082 - mae: 12.634 - ETA: 19s - loss: 216.7370 - mae: 12.636 - ETA: 17s - loss: 216.6380 - mae: 12.636 - ETA: 15s - loss: 216.4403 - mae: 12.629 - ETA: 14s - loss: 216.8981 - mae: 12.646 - ETA: 12s - loss: 217.6053 - mae: 12.666 - ETA: 10s - loss: 217.9759 - mae: 12.663 - ETA: 8s - loss: 217.7099 - mae: 12.658 - ETA: 6s - loss: 217.8044 - mae: 12.65 - ETA: 5s - loss: 219.0244 - mae: 12.68 - ETA: 3s - loss: 219.3069 - mae: 12.69 - ETA: 1s - loss: 219.5079 - mae: 12.70 - ETA: 0s - loss: 219.6024 - mae: 12.70 - 231s 2s/step - loss: 219.6024 - mae: 12.7019 - val_loss: 203.0382 - val_mae: 12.1491\n",
      "Epoch 3/5\n"
     ]
    },
    {
     "name": "stdout",
     "output_type": "stream",
     "text": [
      "125/125 [==============================] - ETA: 3:17 - loss: 264.3039 - mae: 14.43 - ETA: 2:58 - loss: 213.4473 - mae: 12.78 - ETA: 2:56 - loss: 222.1527 - mae: 13.12 - ETA: 2:52 - loss: 216.0457 - mae: 12.74 - ETA: 2:51 - loss: 222.2274 - mae: 12.94 - ETA: 2:47 - loss: 211.4967 - mae: 12.45 - ETA: 2:46 - loss: 219.6137 - mae: 12.74 - ETA: 2:44 - loss: 219.5499 - mae: 12.66 - ETA: 2:41 - loss: 227.9023 - mae: 12.96 - ETA: 2:40 - loss: 224.6945 - mae: 12.82 - ETA: 2:38 - loss: 219.2781 - mae: 12.59 - ETA: 2:37 - loss: 220.4265 - mae: 12.70 - ETA: 2:36 - loss: 218.7356 - mae: 12.64 - ETA: 2:34 - loss: 215.7202 - mae: 12.56 - ETA: 2:33 - loss: 217.1814 - mae: 12.62 - ETA: 2:32 - loss: 217.5157 - mae: 12.65 - ETA: 2:31 - loss: 217.1360 - mae: 12.63 - ETA: 2:31 - loss: 216.7954 - mae: 12.65 - ETA: 2:29 - loss: 217.8047 - mae: 12.66 - ETA: 2:29 - loss: 218.3255 - mae: 12.67 - ETA: 2:28 - loss: 219.3964 - mae: 12.70 - ETA: 2:27 - loss: 221.4423 - mae: 12.80 - ETA: 2:26 - loss: 218.4228 - mae: 12.68 - ETA: 2:26 - loss: 216.1759 - mae: 12.61 - ETA: 2:26 - loss: 215.0910 - mae: 12.55 - ETA: 2:25 - loss: 214.5259 - mae: 12.51 - ETA: 2:25 - loss: 212.6960 - mae: 12.47 - ETA: 2:25 - loss: 212.7103 - mae: 12.47 - ETA: 2:25 - loss: 214.3795 - mae: 12.54 - ETA: 2:25 - loss: 214.5185 - mae: 12.54 - ETA: 2:26 - loss: 212.9332 - mae: 12.50 - ETA: 2:26 - loss: 214.7253 - mae: 12.54 - ETA: 2:27 - loss: 214.4080 - mae: 12.54 - ETA: 2:26 - loss: 214.5877 - mae: 12.55 - ETA: 2:26 - loss: 214.4326 - mae: 12.57 - ETA: 2:25 - loss: 213.1152 - mae: 12.53 - ETA: 2:24 - loss: 213.2201 - mae: 12.54 - ETA: 2:22 - loss: 212.8319 - mae: 12.53 - ETA: 2:21 - loss: 210.3409 - mae: 12.43 - ETA: 2:19 - loss: 211.6138 - mae: 12.46 - ETA: 2:18 - loss: 213.1783 - mae: 12.49 - ETA: 2:16 - loss: 212.4780 - mae: 12.45 - ETA: 2:14 - loss: 212.2020 - mae: 12.44 - ETA: 2:12 - loss: 212.6409 - mae: 12.47 - ETA: 2:10 - loss: 211.9180 - mae: 12.45 - ETA: 2:08 - loss: 211.6103 - mae: 12.42 - ETA: 2:06 - loss: 211.8781 - mae: 12.44 - ETA: 2:04 - loss: 211.8229 - mae: 12.44 - ETA: 2:02 - loss: 212.3971 - mae: 12.46 - ETA: 2:00 - loss: 212.0675 - mae: 12.45 - ETA: 1:58 - loss: 212.5697 - mae: 12.46 - ETA: 1:57 - loss: 211.6965 - mae: 12.43 - ETA: 1:55 - loss: 210.7966 - mae: 12.41 - ETA: 1:53 - loss: 210.8138 - mae: 12.41 - ETA: 1:51 - loss: 210.1626 - mae: 12.39 - ETA: 1:49 - loss: 210.1987 - mae: 12.39 - ETA: 1:47 - loss: 209.6528 - mae: 12.37 - ETA: 1:45 - loss: 208.9227 - mae: 12.36 - ETA: 1:44 - loss: 209.5470 - mae: 12.38 - ETA: 1:42 - loss: 210.7288 - mae: 12.42 - ETA: 1:41 - loss: 211.1351 - mae: 12.43 - ETA: 1:39 - loss: 210.7839 - mae: 12.42 - ETA: 1:38 - loss: 211.2439 - mae: 12.44 - ETA: 1:36 - loss: 211.1005 - mae: 12.44 - ETA: 1:35 - loss: 211.0549 - mae: 12.45 - ETA: 1:34 - loss: 211.0021 - mae: 12.45 - ETA: 1:32 - loss: 211.3072 - mae: 12.46 - ETA: 1:31 - loss: 211.5048 - mae: 12.47 - ETA: 1:29 - loss: 210.2938 - mae: 12.43 - ETA: 1:28 - loss: 209.6244 - mae: 12.41 - ETA: 1:26 - loss: 209.1450 - mae: 12.39 - ETA: 1:25 - loss: 208.2281 - mae: 12.36 - ETA: 1:24 - loss: 208.1472 - mae: 12.36 - ETA: 1:22 - loss: 208.0907 - mae: 12.36 - ETA: 1:21 - loss: 208.6585 - mae: 12.39 - ETA: 1:20 - loss: 208.6558 - mae: 12.39 - ETA: 1:19 - loss: 208.9821 - mae: 12.40 - ETA: 1:17 - loss: 209.6850 - mae: 12.42 - ETA: 1:16 - loss: 209.9863 - mae: 12.44 - ETA: 1:15 - loss: 209.4634 - mae: 12.42 - ETA: 1:14 - loss: 209.0084 - mae: 12.40 - ETA: 1:14 - loss: 209.7615 - mae: 12.43 - ETA: 1:13 - loss: 209.7707 - mae: 12.43 - ETA: 1:11 - loss: 210.0905 - mae: 12.44 - ETA: 1:10 - loss: 210.5667 - mae: 12.45 - ETA: 1:08 - loss: 211.6926 - mae: 12.49 - ETA: 1:07 - loss: 211.3102 - mae: 12.47 - ETA: 1:05 - loss: 212.3629 - mae: 12.50 - ETA: 1:03 - loss: 212.4318 - mae: 12.51 - ETA: 1:02 - loss: 212.3215 - mae: 12.50 - ETA: 1:00 - loss: 213.0391 - mae: 12.52 - ETA: 58s - loss: 213.3580 - mae: 12.5316 - ETA: 56s - loss: 213.2533 - mae: 12.520 - ETA: 54s - loss: 213.4524 - mae: 12.528 - ETA: 53s - loss: 213.2064 - mae: 12.520 - ETA: 51s - loss: 213.6681 - mae: 12.538 - ETA: 49s - loss: 213.5675 - mae: 12.533 - ETA: 47s - loss: 214.1268 - mae: 12.548 - ETA: 45s - loss: 213.5984 - mae: 12.529 - ETA: 44s - loss: 213.5170 - mae: 12.529 - ETA: 42s - loss: 213.4167 - mae: 12.531 - ETA: 40s - loss: 213.1689 - mae: 12.518 - ETA: 38s - loss: 212.9890 - mae: 12.512 - ETA: 36s - loss: 212.9621 - mae: 12.513 - ETA: 34s - loss: 213.1060 - mae: 12.516 - ETA: 33s - loss: 213.1523 - mae: 12.517 - ETA: 31s - loss: 213.2864 - mae: 12.523 - ETA: 29s - loss: 213.2054 - mae: 12.528 - ETA: 27s - loss: 213.7881 - mae: 12.547 - ETA: 26s - loss: 213.6525 - mae: 12.540 - ETA: 24s - loss: 213.2310 - mae: 12.530 - ETA: 22s - loss: 213.5854 - mae: 12.540 - ETA: 20s - loss: 213.2177 - mae: 12.528 - ETA: 18s - loss: 212.7740 - mae: 12.511 - ETA: 17s - loss: 212.3583 - mae: 12.500 - ETA: 15s - loss: 212.5605 - mae: 12.511 - ETA: 13s - loss: 212.2915 - mae: 12.500 - ETA: 12s - loss: 212.3009 - mae: 12.505 - ETA: 10s - loss: 212.9160 - mae: 12.526 - ETA: 8s - loss: 213.2132 - mae: 12.539 - ETA: 6s - loss: 213.3000 - mae: 12.54 - ETA: 5s - loss: 213.6712 - mae: 12.55 - ETA: 3s - loss: 213.7011 - mae: 12.55 - ETA: 1s - loss: 214.1007 - mae: 12.56 - ETA: 0s - loss: 213.8237 - mae: 12.55 - 239s 2s/step - loss: 213.8237 - mae: 12.5531 - val_loss: 216.6832 - val_mae: 12.4981\n",
      "Epoch 4/5\n"
     ]
    },
    {
     "name": "stdout",
     "output_type": "stream",
     "text": [
      "125/125 [==============================] - ETA: 5:16 - loss: 273.6808 - mae: 14.36 - ETA: 4:51 - loss: 227.6552 - mae: 12.49 - ETA: 4:33 - loss: 223.3478 - mae: 12.65 - ETA: 4:21 - loss: 225.1567 - mae: 12.83 - ETA: 4:12 - loss: 224.0806 - mae: 12.92 - ETA: 4:02 - loss: 218.7683 - mae: 12.82 - ETA: 3:54 - loss: 219.5006 - mae: 12.88 - ETA: 3:46 - loss: 219.2936 - mae: 12.88 - ETA: 3:39 - loss: 211.7115 - mae: 12.57 - ETA: 3:34 - loss: 217.6685 - mae: 12.80 - ETA: 3:29 - loss: 215.4115 - mae: 12.69 - ETA: 3:24 - loss: 215.1674 - mae: 12.69 - ETA: 3:21 - loss: 216.5222 - mae: 12.73 - ETA: 3:17 - loss: 214.0638 - mae: 12.63 - ETA: 3:13 - loss: 217.6015 - mae: 12.75 - ETA: 3:10 - loss: 214.8937 - mae: 12.61 - ETA: 3:06 - loss: 217.0727 - mae: 12.69 - ETA: 3:03 - loss: 217.8791 - mae: 12.73 - ETA: 3:00 - loss: 214.9901 - mae: 12.61 - ETA: 2:57 - loss: 215.2417 - mae: 12.63 - ETA: 2:55 - loss: 218.1572 - mae: 12.72 - ETA: 2:52 - loss: 219.1108 - mae: 12.76 - ETA: 2:50 - loss: 219.5858 - mae: 12.79 - ETA: 2:47 - loss: 218.5142 - mae: 12.76 - ETA: 2:45 - loss: 218.6138 - mae: 12.77 - ETA: 2:43 - loss: 217.6996 - mae: 12.75 - ETA: 2:40 - loss: 216.6295 - mae: 12.68 - ETA: 2:39 - loss: 215.9145 - mae: 12.67 - ETA: 2:37 - loss: 216.9464 - mae: 12.70 - ETA: 2:35 - loss: 214.9940 - mae: 12.64 - ETA: 2:33 - loss: 212.9672 - mae: 12.55 - ETA: 2:31 - loss: 215.9336 - mae: 12.66 - ETA: 2:30 - loss: 214.9491 - mae: 12.63 - ETA: 2:28 - loss: 215.2011 - mae: 12.63 - ETA: 2:27 - loss: 215.8163 - mae: 12.66 - ETA: 2:26 - loss: 215.9554 - mae: 12.68 - ETA: 2:26 - loss: 216.8606 - mae: 12.71 - ETA: 2:26 - loss: 216.5868 - mae: 12.70 - ETA: 2:30 - loss: 214.9874 - mae: 12.63 - ETA: 2:31 - loss: 215.8144 - mae: 12.66 - ETA: 2:32 - loss: 215.5636 - mae: 12.66 - ETA: 2:34 - loss: 215.9646 - mae: 12.68 - ETA: 2:36 - loss: 215.9225 - mae: 12.69 - ETA: 2:39 - loss: 215.3044 - mae: 12.67 - ETA: 2:41 - loss: 215.5974 - mae: 12.69 - ETA: 2:42 - loss: 214.2562 - mae: 12.64 - ETA: 2:43 - loss: 213.8042 - mae: 12.62 - ETA: 2:42 - loss: 213.7231 - mae: 12.62 - ETA: 2:43 - loss: 212.7408 - mae: 12.59 - ETA: 2:42 - loss: 212.7025 - mae: 12.59 - ETA: 2:41 - loss: 212.6046 - mae: 12.59 - ETA: 2:40 - loss: 211.8889 - mae: 12.57 - ETA: 2:38 - loss: 211.8746 - mae: 12.58 - ETA: 2:36 - loss: 211.8191 - mae: 12.58 - ETA: 2:33 - loss: 213.6136 - mae: 12.63 - ETA: 2:31 - loss: 214.8495 - mae: 12.66 - ETA: 2:29 - loss: 214.6386 - mae: 12.66 - ETA: 2:26 - loss: 213.5608 - mae: 12.62 - ETA: 2:24 - loss: 213.3631 - mae: 12.61 - ETA: 2:22 - loss: 213.4743 - mae: 12.60 - ETA: 2:19 - loss: 212.8180 - mae: 12.57 - ETA: 2:17 - loss: 212.2088 - mae: 12.55 - ETA: 2:14 - loss: 212.7663 - mae: 12.58 - ETA: 2:11 - loss: 212.6268 - mae: 12.58 - ETA: 2:09 - loss: 213.1740 - mae: 12.60 - ETA: 2:06 - loss: 212.4326 - mae: 12.58 - ETA: 2:03 - loss: 212.5456 - mae: 12.59 - ETA: 2:01 - loss: 212.2442 - mae: 12.59 - ETA: 1:58 - loss: 211.6309 - mae: 12.57 - ETA: 1:56 - loss: 211.7672 - mae: 12.58 - ETA: 1:53 - loss: 212.6915 - mae: 12.61 - ETA: 1:51 - loss: 212.2760 - mae: 12.59 - ETA: 1:49 - loss: 213.0888 - mae: 12.61 - ETA: 1:47 - loss: 213.2021 - mae: 12.61 - ETA: 1:45 - loss: 213.1705 - mae: 12.61 - ETA: 1:43 - loss: 213.5915 - mae: 12.62 - ETA: 1:41 - loss: 213.1727 - mae: 12.61 - ETA: 1:39 - loss: 213.6170 - mae: 12.63 - ETA: 1:38 - loss: 213.7789 - mae: 12.64 - ETA: 1:36 - loss: 214.9200 - mae: 12.67 - ETA: 1:35 - loss: 215.3148 - mae: 12.69 - ETA: 1:33 - loss: 215.0757 - mae: 12.68 - ETA: 1:32 - loss: 215.3420 - mae: 12.69 - ETA: 1:30 - loss: 215.3795 - mae: 12.69 - ETA: 1:28 - loss: 215.1023 - mae: 12.68 - ETA: 1:26 - loss: 215.3512 - mae: 12.69 - ETA: 1:24 - loss: 214.7200 - mae: 12.66 - ETA: 1:22 - loss: 215.1870 - mae: 12.68 - ETA: 1:19 - loss: 215.8910 - mae: 12.71 - ETA: 1:17 - loss: 215.8108 - mae: 12.71 - ETA: 1:15 - loss: 214.9794 - mae: 12.68 - ETA: 1:12 - loss: 215.1903 - mae: 12.68 - ETA: 1:10 - loss: 215.3267 - mae: 12.69 - ETA: 1:08 - loss: 215.3335 - mae: 12.69 - ETA: 1:05 - loss: 215.2257 - mae: 12.68 - ETA: 1:03 - loss: 215.8437 - mae: 12.71 - ETA: 1:01 - loss: 216.4552 - mae: 12.72 - ETA: 58s - loss: 216.6302 - mae: 12.7316 - ETA: 56s - loss: 216.8941 - mae: 12.736 - ETA: 54s - loss: 216.5817 - mae: 12.727 - ETA: 51s - loss: 216.4475 - mae: 12.724 - ETA: 49s - loss: 216.4493 - mae: 12.725 - ETA: 47s - loss: 216.3306 - mae: 12.722 - ETA: 44s - loss: 216.1872 - mae: 12.719 - ETA: 42s - loss: 215.8074 - mae: 12.707 - ETA: 40s - loss: 215.1331 - mae: 12.684 - ETA: 38s - loss: 214.6809 - mae: 12.667 - ETA: 35s - loss: 214.3941 - mae: 12.656 - ETA: 33s - loss: 213.9210 - mae: 12.633 - ETA: 31s - loss: 213.7504 - mae: 12.628 - ETA: 29s - loss: 213.3626 - mae: 12.617 - ETA: 27s - loss: 213.3454 - mae: 12.622 - ETA: 24s - loss: 213.5203 - mae: 12.634 - ETA: 22s - loss: 213.3340 - mae: 12.625 - ETA: 20s - loss: 212.6823 - mae: 12.597 - ETA: 18s - loss: 212.9543 - mae: 12.608 - ETA: 16s - loss: 212.2143 - mae: 12.578 - ETA: 14s - loss: 212.2600 - mae: 12.580 - ETA: 12s - loss: 212.6029 - mae: 12.592 - ETA: 10s - loss: 212.5290 - mae: 12.593 - ETA: 8s - loss: 213.8799 - mae: 12.638 - ETA: 6s - loss: 215.0049 - mae: 12.66 - ETA: 4s - loss: 215.4845 - mae: 12.67 - ETA: 2s - loss: 215.2726 - mae: 12.66 - ETA: 0s - loss: 215.1585 - mae: 12.66 - 273s 2s/step - loss: 215.1585 - mae: 12.6615 - val_loss: 217.9326 - val_mae: 12.5028\n",
      "Epoch 5/5\n"
     ]
    },
    {
     "name": "stdout",
     "output_type": "stream",
     "text": [
      "125/125 [==============================] - ETA: 5:52 - loss: 300.3913 - mae: 15.17 - ETA: 4:48 - loss: 252.4968 - mae: 13.72 - ETA: 4:37 - loss: 236.0660 - mae: 13.23 - ETA: 4:24 - loss: 211.7232 - mae: 12.19 - ETA: 4:14 - loss: 215.7533 - mae: 12.37 - ETA: 4:05 - loss: 224.8566 - mae: 12.74 - ETA: 3:59 - loss: 219.5309 - mae: 12.46 - ETA: 3:53 - loss: 226.3795 - mae: 12.79 - ETA: 3:48 - loss: 220.3183 - mae: 12.63 - ETA: 3:42 - loss: 222.1243 - mae: 12.77 - ETA: 3:37 - loss: 217.2554 - mae: 12.58 - ETA: 3:32 - loss: 214.2145 - mae: 12.49 - ETA: 3:29 - loss: 214.7361 - mae: 12.51 - ETA: 3:25 - loss: 213.0649 - mae: 12.46 - ETA: 3:22 - loss: 213.5004 - mae: 12.51 - ETA: 3:19 - loss: 214.0180 - mae: 12.57 - ETA: 3:15 - loss: 213.5926 - mae: 12.53 - ETA: 3:10 - loss: 211.9294 - mae: 12.49 - ETA: 3:06 - loss: 210.9897 - mae: 12.46 - ETA: 3:03 - loss: 208.4001 - mae: 12.35 - ETA: 3:00 - loss: 210.3614 - mae: 12.39 - ETA: 2:56 - loss: 217.8432 - mae: 12.60 - ETA: 2:53 - loss: 218.8339 - mae: 12.63 - ETA: 2:50 - loss: 220.0220 - mae: 12.67 - ETA: 2:47 - loss: 221.2951 - mae: 12.75 - ETA: 2:44 - loss: 221.2990 - mae: 12.74 - ETA: 2:41 - loss: 219.2671 - mae: 12.67 - ETA: 2:39 - loss: 218.8930 - mae: 12.66 - ETA: 2:36 - loss: 218.2169 - mae: 12.65 - ETA: 2:34 - loss: 217.2658 - mae: 12.61 - ETA: 2:32 - loss: 215.7762 - mae: 12.57 - ETA: 2:29 - loss: 215.9976 - mae: 12.59 - ETA: 2:27 - loss: 215.2363 - mae: 12.59 - ETA: 2:25 - loss: 215.5574 - mae: 12.62 - ETA: 2:23 - loss: 214.8272 - mae: 12.59 - ETA: 2:21 - loss: 214.5377 - mae: 12.56 - ETA: 2:19 - loss: 213.1817 - mae: 12.51 - ETA: 2:17 - loss: 213.8085 - mae: 12.53 - ETA: 2:16 - loss: 212.6033 - mae: 12.49 - ETA: 2:14 - loss: 211.6731 - mae: 12.48 - ETA: 2:12 - loss: 212.2765 - mae: 12.50 - ETA: 2:11 - loss: 210.5844 - mae: 12.45 - ETA: 2:09 - loss: 211.1621 - mae: 12.47 - ETA: 2:08 - loss: 210.8319 - mae: 12.45 - ETA: 2:06 - loss: 210.6688 - mae: 12.46 - ETA: 2:05 - loss: 209.9785 - mae: 12.43 - ETA: 2:04 - loss: 210.1658 - mae: 12.43 - ETA: 2:03 - loss: 209.5403 - mae: 12.41 - ETA: 2:02 - loss: 208.5377 - mae: 12.37 - ETA: 2:01 - loss: 209.3408 - mae: 12.38 - ETA: 2:00 - loss: 211.1176 - mae: 12.44 - ETA: 2:00 - loss: 211.1864 - mae: 12.46 - ETA: 1:59 - loss: 210.6904 - mae: 12.45 - ETA: 1:59 - loss: 211.0646 - mae: 12.46 - ETA: 1:59 - loss: 210.5972 - mae: 12.45 - ETA: 1:58 - loss: 209.5615 - mae: 12.42 - ETA: 1:57 - loss: 208.9185 - mae: 12.40 - ETA: 1:56 - loss: 208.1233 - mae: 12.36 - ETA: 1:54 - loss: 208.3119 - mae: 12.37 - ETA: 1:53 - loss: 208.3348 - mae: 12.37 - ETA: 1:51 - loss: 209.0102 - mae: 12.41 - ETA: 1:50 - loss: 209.3324 - mae: 12.42 - ETA: 1:48 - loss: 209.2563 - mae: 12.42 - ETA: 1:46 - loss: 209.1598 - mae: 12.42 - ETA: 1:44 - loss: 208.6749 - mae: 12.40 - ETA: 1:42 - loss: 208.5905 - mae: 12.40 - ETA: 1:41 - loss: 208.5616 - mae: 12.39 - ETA: 1:39 - loss: 208.8972 - mae: 12.41 - ETA: 1:37 - loss: 209.2610 - mae: 12.42 - ETA: 1:35 - loss: 209.2577 - mae: 12.42 - ETA: 1:33 - loss: 208.7941 - mae: 12.40 - ETA: 1:31 - loss: 208.1039 - mae: 12.38 - ETA: 1:29 - loss: 208.6231 - mae: 12.40 - ETA: 1:27 - loss: 208.6298 - mae: 12.40 - ETA: 1:25 - loss: 209.2417 - mae: 12.42 - ETA: 1:23 - loss: 210.2074 - mae: 12.45 - ETA: 1:21 - loss: 209.7301 - mae: 12.43 - ETA: 1:19 - loss: 209.8556 - mae: 12.44 - ETA: 1:17 - loss: 209.9273 - mae: 12.45 - ETA: 1:16 - loss: 209.7450 - mae: 12.44 - ETA: 1:14 - loss: 209.8077 - mae: 12.44 - ETA: 1:12 - loss: 210.1253 - mae: 12.46 - ETA: 1:10 - loss: 209.9698 - mae: 12.46 - ETA: 1:08 - loss: 209.5759 - mae: 12.44 - ETA: 1:06 - loss: 209.7373 - mae: 12.45 - ETA: 1:05 - loss: 209.8034 - mae: 12.45 - ETA: 1:03 - loss: 210.2637 - mae: 12.45 - ETA: 1:01 - loss: 210.2656 - mae: 12.45 - ETA: 59s - loss: 211.2247 - mae: 12.4873 - ETA: 57s - loss: 212.1301 - mae: 12.511 - ETA: 56s - loss: 212.1506 - mae: 12.505 - ETA: 54s - loss: 212.2036 - mae: 12.505 - ETA: 52s - loss: 212.3149 - mae: 12.509 - ETA: 50s - loss: 212.2369 - mae: 12.507 - ETA: 49s - loss: 212.7087 - mae: 12.528 - ETA: 47s - loss: 212.8482 - mae: 12.533 - ETA: 45s - loss: 212.3592 - mae: 12.518 - ETA: 44s - loss: 211.9488 - mae: 12.501 - ETA: 42s - loss: 212.2200 - mae: 12.512 - ETA: 40s - loss: 211.9343 - mae: 12.502 - ETA: 39s - loss: 211.5779 - mae: 12.487 - ETA: 37s - loss: 211.4769 - mae: 12.488 - ETA: 35s - loss: 211.9334 - mae: 12.497 - ETA: 34s - loss: 212.6198 - mae: 12.516 - ETA: 32s - loss: 212.4667 - mae: 12.516 - ETA: 31s - loss: 212.2418 - mae: 12.507 - ETA: 29s - loss: 211.9429 - mae: 12.491 - ETA: 27s - loss: 211.8230 - mae: 12.486 - ETA: 26s - loss: 211.9233 - mae: 12.490 - ETA: 24s - loss: 211.7029 - mae: 12.481 - ETA: 23s - loss: 210.9342 - mae: 12.449 - ETA: 21s - loss: 211.0844 - mae: 12.451 - ETA: 20s - loss: 210.9724 - mae: 12.442 - ETA: 18s - loss: 210.6050 - mae: 12.428 - ETA: 16s - loss: 210.6151 - mae: 12.433 - ETA: 15s - loss: 211.0395 - mae: 12.445 - ETA: 13s - loss: 211.1427 - mae: 12.450 - ETA: 11s - loss: 210.6998 - mae: 12.436 - ETA: 10s - loss: 211.4759 - mae: 12.463 - ETA: 8s - loss: 211.7107 - mae: 12.473 - ETA: 6s - loss: 211.8443 - mae: 12.47 - ETA: 5s - loss: 211.8332 - mae: 12.47 - ETA: 3s - loss: 211.9305 - mae: 12.48 - ETA: 1s - loss: 211.4997 - mae: 12.47 - ETA: 0s - loss: 211.3069 - mae: 12.46 - 228s 2s/step - loss: 211.3069 - mae: 12.4610 - val_loss: 194.1925 - val_mae: 11.8708\n"
     ]
    }
   ],
   "source": [
    "history = simple_model.fit(train_ds,\n",
    "                           epochs=5,\n",
    "                           validation_data=val_ds)"
   ]
  },
  {
   "cell_type": "code",
   "execution_count": 48,
   "metadata": {},
   "outputs": [
    {
     "data": {
      "text/plain": [
       "{'loss': [322.6862487792969,\n",
       "  219.60244750976562,\n",
       "  213.8236541748047,\n",
       "  215.1584930419922,\n",
       "  211.30690002441406],\n",
       " 'mae': [14.737058639526367,\n",
       "  12.70189094543457,\n",
       "  12.553072929382324,\n",
       "  12.661480903625488,\n",
       "  12.460980415344238],\n",
       " 'val_loss': [265.9073791503906,\n",
       "  203.03817749023438,\n",
       "  216.68316650390625,\n",
       "  217.9326171875,\n",
       "  194.19253540039062],\n",
       " 'val_mae': [13.581344604492188,\n",
       "  12.149106979370117,\n",
       "  12.498139381408691,\n",
       "  12.502823829650879,\n",
       "  11.870802879333496]}"
      ]
     },
     "execution_count": 48,
     "metadata": {},
     "output_type": "execute_result"
    }
   ],
   "source": [
    "history.history"
   ]
  },
  {
   "cell_type": "code",
   "execution_count": 49,
   "metadata": {},
   "outputs": [],
   "source": [
    "# 실제로 True값과 Predicted값을 비교해보기 위한 코드. val_ds에서 3개만 가져와서 해봄\n",
    "i = 1\n",
    "image_batch_list = []\n",
    "label_batch_list = []\n",
    "for image_batch, label_batch in val_ds:\n",
    "    image_batch_list.append(image_batch)\n",
    "    label_batch_list.append(label_batch)\n",
    "    i+=1\n",
    "    if i == 4: break"
   ]
  },
  {
   "cell_type": "code",
   "execution_count": 53,
   "metadata": {},
   "outputs": [
    {
     "name": "stdout",
     "output_type": "stream",
     "text": [
      "    true       pred       diff\n",
      "0     46  44.043716   1.956284\n",
      "1     20  41.397190 -21.397190\n",
      "2     64  43.960968  20.039032\n",
      "3     37  36.791412   0.208588\n",
      "4     63  39.808662  23.191338\n",
      "5     35  42.666859  -7.666859\n",
      "6     36  40.546673  -4.546673\n",
      "7     38  41.917007  -3.917007\n",
      "8     56  42.126362  13.873638\n",
      "9     23  42.730164 -19.730164\n",
      "10    58  41.119289  16.880711\n",
      "11    34  39.710285  -5.710285\n",
      "12    53  43.737553   9.262447\n",
      "13    65  42.796066  22.203934\n",
      "14    42  41.546864   0.453136\n",
      "15    33  39.293247  -6.293247\n",
      "16    58  40.149281  17.850719\n",
      "17    58  42.352898  15.647102\n",
      "18    42  40.764259   1.235741\n",
      "19    51  45.780037   5.219963\n",
      "20    57  44.313328  12.686672\n",
      "21    48  42.466427   5.533573\n",
      "22    57  39.709557  17.290443\n",
      "23    46  43.427879   2.572121\n",
      "24    25  38.485012 -13.485012\n",
      "25    37  42.678486  -5.678486\n",
      "26    62  41.901783  20.098217\n",
      "27    45  43.510689   1.489311\n",
      "28    44  40.715290   3.284710\n",
      "29    40  39.018234   0.981766\n",
      "30    25  39.964104 -14.964104\n",
      "31    29  40.943901 -11.943901\n",
      "    true       pred       diff\n",
      "0     56  41.132774  14.867226\n",
      "1     63  42.545738  20.454262\n",
      "2     47  39.669415   7.330585\n",
      "3     39  41.490753  -2.490753\n",
      "4     33  40.150059  -7.150059\n",
      "5     34  41.314354  -7.314354\n",
      "6     47  40.761398   6.238602\n",
      "7     67  41.573147  25.426853\n",
      "8     18  38.881493 -20.881493\n",
      "9     50  41.201546   8.798454\n",
      "10    40  41.251667  -1.251667\n",
      "11    42  40.365616   1.634384\n",
      "12    37  40.105217  -3.105217\n",
      "13    28  42.648392 -14.648392\n",
      "14    21  42.895561 -21.895561\n",
      "15    52  40.260994  11.739006\n",
      "16    20  40.332069 -20.332069\n",
      "17    46  43.226063   2.773937\n",
      "18    33  38.789837  -5.789837\n",
      "19    68  39.322990  28.677010\n",
      "20    58  42.676632  15.323368\n",
      "21    22  40.225334 -18.225334\n",
      "22    50  42.556717   7.443283\n",
      "23    41  41.502090  -0.502090\n",
      "24    68  41.045128  26.954872\n",
      "25    64  40.553478  23.446522\n",
      "26    36  39.335976  -3.335976\n",
      "27    38  42.331352  -4.331352\n",
      "28    37  38.432083  -1.432083\n",
      "29    33  42.028305  -9.028305\n",
      "30    39  42.160160  -3.160160\n",
      "31    34  41.703827  -7.703827\n",
      "    true       pred       diff\n",
      "0     26  40.730324 -14.730324\n",
      "1     19  39.337818 -20.337818\n",
      "2     65  42.074547  22.925453\n",
      "3     40  39.498596   0.501404\n",
      "4     44  41.570049   2.429951\n",
      "5     27  39.072124 -12.072124\n",
      "6     28  41.446396 -13.446396\n",
      "7     54  43.201481  10.798519\n",
      "8     60  42.230919  17.769081\n",
      "9     40  41.816608  -1.816608\n",
      "10    23  40.776894 -17.776894\n",
      "11    32  38.397930  -6.397930\n",
      "12    18  38.576492 -20.576492\n",
      "13    30  41.600803 -11.600803\n",
      "14    39  42.830750  -3.830750\n",
      "15    27  40.409737 -13.409737\n",
      "16    34  43.108887  -9.108887\n",
      "17    37  40.065174  -3.065174\n",
      "18    22  41.057869 -19.057869\n",
      "19    24  39.977200 -15.977200\n",
      "20    35  39.876450  -4.876450\n",
      "21    23  43.367188 -20.367188\n",
      "22    45  42.422668   2.577332\n",
      "23    20  37.773678 -17.773678\n",
      "24    33  41.726761  -8.726761\n",
      "25    58  41.205307  16.794693\n",
      "26    34  41.524429  -7.524429\n",
      "27    46  41.728031   4.271969\n",
      "28    26  41.257973 -15.257973\n",
      "29    29  41.130199 -12.130199\n",
      "30    67  41.920193  25.079807\n",
      "31    55  40.470802  14.529198\n"
     ]
    }
   ],
   "source": [
    "import pandas as pd\n",
    "for image_batch, label_batch in zip(image_batch_list, label_batch_list):\n",
    "    predicted_labels = simple_model.predict(image_batch)\n",
    "    df = pd.DataFrame({'true':np.array(label_batch).reshape(-1,), \n",
    "                       'pred':predicted_labels.reshape(-1,)})\n",
    "    df = df + 18\n",
    "    df['diff'] = df['true']-df['pred']\n",
    "    print(df)"
   ]
  },
  {
   "cell_type": "code",
   "execution_count": 55,
   "metadata": {},
   "outputs": [
    {
     "name": "stdout",
     "output_type": "stream",
     "text": [
      "INFO:tensorflow:Assets written to: SimpleModel_Sample100_Epoch5\\assets\n"
     ]
    }
   ],
   "source": [
    "# 모델 저장\n",
    "simple_model.save('SimpleModel_Sample100_Epoch5')"
   ]
  },
  {
   "cell_type": "code",
   "execution_count": 56,
   "metadata": {},
   "outputs": [],
   "source": [
    "tmplist = [13.581344604492188,\n",
    "  12.149106979370117,\n",
    "  12.498139381408691,\n",
    "  12.502823829650879,\n",
    "  11.870802879333496]"
   ]
  },
  {
   "cell_type": "code",
   "execution_count": 59,
   "metadata": {},
   "outputs": [
    {
     "data": {
      "image/png": "[encoded data removed]",
      "text/plain": [
       "<Figure size 576x216 with 1 Axes>"
      ]
     },
     "metadata": {
      "needs_background": "light"
     },
     "output_type": "display_data"
    }
   ],
   "source": [
    "plt.figure(figsize = (8, 3))\n",
    "plt.title('mae')\n",
    "plt.plot(tmplist, label='mae')\n",
    "plt.xlabel('epoch')\n",
    "plt.ylabel('loss')\n",
    "plt.legend()\n",
    "plt.show()"
   ]
  },
  {
   "cell_type": "code",
   "execution_count": null,
   "metadata": {},
   "outputs": [],
   "source": []
  }
 ],
 "metadata": {
  "kernelspec": {
   "display_name": "Python 3",
   "language": "python",
   "name": "python3"
  },
  "language_info": {
   "codemirror_mode": {
    "name": "ipython",
    "version": 3
   },
   "file_extension": ".py",
   "mimetype": "text/x-python",
   "name": "python",
   "nbconvert_exporter": "python",
   "pygments_lexer": "ipython3",
   "version": "3.7.3"
  }
 },
 "nbformat": 4,
 "nbformat_minor": 2
}
